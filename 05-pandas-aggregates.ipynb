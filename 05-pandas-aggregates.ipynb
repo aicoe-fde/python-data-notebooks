{
 "cells": [
  {
   "cell_type": "markdown",
   "metadata": {},
   "source": [
    "## Aggregations and Queries in pandas\n",
    "\n",
    "In [notebook 4](04-pandas-basics.ipynb) we saw that pandas provides some useful structures, namely `Series` and `DataFrames`, and we perfomed some basic manipulations of these structures. \n",
    "\n",
    "Both `Series` and `DataFrames` have a resemblance to a classic spreadsheet or database. In this notebook we will see how pandas supports aggregations and transformations which are traditionally associated with relational database and SQL.\n",
    "\n",
    "We begin by defining a pandas DataFrame that is very similar to the DataFrame used in the previous notebook:"
   ]
  },
  {
   "cell_type": "code",
   "execution_count": 1,
   "metadata": {},
   "outputs": [],
   "source": [
    "import numpy as np\n",
    "import pandas as pd\n",
    "\n",
    "data = {'film':['Little Women', 'Cats', 'Jumanji', 'Star Wars', 'Yesterday'], \n",
    "       'mean views':[908, 102, 3604, 1145, 795],\n",
    "       'date': [np.datetime64('2019-12-25'), np.datetime64('2019-12-20'), \n",
    "                np.datetime64('2019-12-04'), np.datetime64('2019-12-18'), np.datetime64('2019-06-28')],\n",
    "        'month':['Dec', 'Dec', 'Dec', 'Dec', 'Jun'],\n",
    "       'run time':[135, 110, 123, 142, 116],\n",
    "       'theaters':[1093,987,4038,4874, 3860],\n",
    "       'rating':[4,3,3,4,4]\n",
    "    }\n"
   ]
  },
  {
   "cell_type": "code",
   "execution_count": 2,
   "metadata": {},
   "outputs": [
    {
     "data": {
      "text/html": [
       "<div>\n",
       "<style scoped>\n",
       "    .dataframe tbody tr th:only-of-type {\n",
       "        vertical-align: middle;\n",
       "    }\n",
       "\n",
       "    .dataframe tbody tr th {\n",
       "        vertical-align: top;\n",
       "    }\n",
       "\n",
       "    .dataframe thead th {\n",
       "        text-align: right;\n",
       "    }\n",
       "</style>\n",
       "<table border=\"1\" class=\"dataframe\">\n",
       "  <thead>\n",
       "    <tr style=\"text-align: right;\">\n",
       "      <th></th>\n",
       "      <th>film</th>\n",
       "      <th>mean views</th>\n",
       "      <th>date</th>\n",
       "      <th>month</th>\n",
       "      <th>run time</th>\n",
       "      <th>theaters</th>\n",
       "      <th>rating</th>\n",
       "    </tr>\n",
       "  </thead>\n",
       "  <tbody>\n",
       "    <tr>\n",
       "      <th>0</th>\n",
       "      <td>Little Women</td>\n",
       "      <td>908</td>\n",
       "      <td>2019-12-25</td>\n",
       "      <td>Dec</td>\n",
       "      <td>135</td>\n",
       "      <td>1093</td>\n",
       "      <td>4</td>\n",
       "    </tr>\n",
       "    <tr>\n",
       "      <th>1</th>\n",
       "      <td>Cats</td>\n",
       "      <td>102</td>\n",
       "      <td>2019-12-20</td>\n",
       "      <td>Dec</td>\n",
       "      <td>110</td>\n",
       "      <td>987</td>\n",
       "      <td>3</td>\n",
       "    </tr>\n",
       "    <tr>\n",
       "      <th>2</th>\n",
       "      <td>Jumanji</td>\n",
       "      <td>3604</td>\n",
       "      <td>2019-12-04</td>\n",
       "      <td>Dec</td>\n",
       "      <td>123</td>\n",
       "      <td>4038</td>\n",
       "      <td>3</td>\n",
       "    </tr>\n",
       "    <tr>\n",
       "      <th>3</th>\n",
       "      <td>Star Wars</td>\n",
       "      <td>1145</td>\n",
       "      <td>2019-12-18</td>\n",
       "      <td>Dec</td>\n",
       "      <td>142</td>\n",
       "      <td>4874</td>\n",
       "      <td>4</td>\n",
       "    </tr>\n",
       "    <tr>\n",
       "      <th>4</th>\n",
       "      <td>Yesterday</td>\n",
       "      <td>795</td>\n",
       "      <td>2019-06-28</td>\n",
       "      <td>Jun</td>\n",
       "      <td>116</td>\n",
       "      <td>3860</td>\n",
       "      <td>4</td>\n",
       "    </tr>\n",
       "  </tbody>\n",
       "</table>\n",
       "</div>"
      ],
      "text/plain": [
       "           film  mean views       date month  run time  theaters  rating\n",
       "0  Little Women         908 2019-12-25   Dec       135      1093       4\n",
       "1          Cats         102 2019-12-20   Dec       110       987       3\n",
       "2       Jumanji        3604 2019-12-04   Dec       123      4038       3\n",
       "3     Star Wars        1145 2019-12-18   Dec       142      4874       4\n",
       "4     Yesterday         795 2019-06-28   Jun       116      3860       4"
      ]
     },
     "execution_count": 2,
     "metadata": {},
     "output_type": "execute_result"
    }
   ],
   "source": [
    "movie_df = pd.DataFrame(data) \n",
    "\n",
    "movie_df"
   ]
  },
  {
   "cell_type": "markdown",
   "metadata": {},
   "source": [
    "It is common to want to group such data by one column of the data frame.\n",
    "\n",
    "The pandas `.groupby()` function allows us to create a grouped object, which is organised based on the columns passed in the argument of the function. "
   ]
  },
  {
   "cell_type": "code",
   "execution_count": 3,
   "metadata": {},
   "outputs": [
    {
     "data": {
      "text/plain": [
       "<pandas.core.groupby.generic.DataFrameGroupBy object at 0x111b74910>"
      ]
     },
     "execution_count": 3,
     "metadata": {},
     "output_type": "execute_result"
    }
   ],
   "source": [
    "grouped = movie_df.groupby('rating')\n",
    "grouped"
   ]
  },
  {
   "cell_type": "markdown",
   "metadata": {},
   "source": [
    "You can see that `grouped` is a specific pandas object and although we can't easily view such objects we are able to apply functions to those groups. Let's try taking the mean across groups:"
   ]
  },
  {
   "cell_type": "code",
   "execution_count": 4,
   "metadata": {},
   "outputs": [
    {
     "data": {
      "text/html": [
       "<div>\n",
       "<style scoped>\n",
       "    .dataframe tbody tr th:only-of-type {\n",
       "        vertical-align: middle;\n",
       "    }\n",
       "\n",
       "    .dataframe tbody tr th {\n",
       "        vertical-align: top;\n",
       "    }\n",
       "\n",
       "    .dataframe thead th {\n",
       "        text-align: right;\n",
       "    }\n",
       "</style>\n",
       "<table border=\"1\" class=\"dataframe\">\n",
       "  <thead>\n",
       "    <tr style=\"text-align: right;\">\n",
       "      <th></th>\n",
       "      <th>mean views</th>\n",
       "      <th>run time</th>\n",
       "      <th>theaters</th>\n",
       "    </tr>\n",
       "    <tr>\n",
       "      <th>rating</th>\n",
       "      <th></th>\n",
       "      <th></th>\n",
       "      <th></th>\n",
       "    </tr>\n",
       "  </thead>\n",
       "  <tbody>\n",
       "    <tr>\n",
       "      <th>3</th>\n",
       "      <td>1853.000000</td>\n",
       "      <td>116.5</td>\n",
       "      <td>2512.500000</td>\n",
       "    </tr>\n",
       "    <tr>\n",
       "      <th>4</th>\n",
       "      <td>949.333333</td>\n",
       "      <td>131.0</td>\n",
       "      <td>3275.666667</td>\n",
       "    </tr>\n",
       "  </tbody>\n",
       "</table>\n",
       "</div>"
      ],
      "text/plain": [
       "         mean views  run time     theaters\n",
       "rating                                    \n",
       "3       1853.000000     116.5  2512.500000\n",
       "4        949.333333     131.0  3275.666667"
      ]
     },
     "execution_count": 4,
     "metadata": {},
     "output_type": "execute_result"
    }
   ],
   "source": [
    "grouped.mean()"
   ]
  },
  {
   "cell_type": "markdown",
   "metadata": {},
   "source": [
    "The data now has a `rating` key. The `.mean()` acts on all numeric columns of the DataFrame and returns the mean value across all entries which share the same rating. "
   ]
  },
  {
   "cell_type": "markdown",
   "metadata": {},
   "source": [
    "We can also pass a python list of column names to the `.groupby()` function. The DataFrame will be grouped by all of the list entries, in the order that they are given:"
   ]
  },
  {
   "cell_type": "code",
   "execution_count": 5,
   "metadata": {},
   "outputs": [
    {
     "data": {
      "text/html": [
       "<div>\n",
       "<style scoped>\n",
       "    .dataframe tbody tr th:only-of-type {\n",
       "        vertical-align: middle;\n",
       "    }\n",
       "\n",
       "    .dataframe tbody tr th {\n",
       "        vertical-align: top;\n",
       "    }\n",
       "\n",
       "    .dataframe thead th {\n",
       "        text-align: right;\n",
       "    }\n",
       "</style>\n",
       "<table border=\"1\" class=\"dataframe\">\n",
       "  <thead>\n",
       "    <tr style=\"text-align: right;\">\n",
       "      <th></th>\n",
       "      <th></th>\n",
       "      <th>mean views</th>\n",
       "      <th>run time</th>\n",
       "      <th>theaters</th>\n",
       "    </tr>\n",
       "    <tr>\n",
       "      <th>rating</th>\n",
       "      <th>month</th>\n",
       "      <th></th>\n",
       "      <th></th>\n",
       "      <th></th>\n",
       "    </tr>\n",
       "  </thead>\n",
       "  <tbody>\n",
       "    <tr>\n",
       "      <th>3</th>\n",
       "      <th>Dec</th>\n",
       "      <td>1853.0</td>\n",
       "      <td>116.5</td>\n",
       "      <td>2512.5</td>\n",
       "    </tr>\n",
       "    <tr>\n",
       "      <th rowspan=\"2\" valign=\"top\">4</th>\n",
       "      <th>Dec</th>\n",
       "      <td>1026.5</td>\n",
       "      <td>138.5</td>\n",
       "      <td>2983.5</td>\n",
       "    </tr>\n",
       "    <tr>\n",
       "      <th>Jun</th>\n",
       "      <td>795.0</td>\n",
       "      <td>116.0</td>\n",
       "      <td>3860.0</td>\n",
       "    </tr>\n",
       "  </tbody>\n",
       "</table>\n",
       "</div>"
      ],
      "text/plain": [
       "              mean views  run time  theaters\n",
       "rating month                                \n",
       "3      Dec        1853.0     116.5    2512.5\n",
       "4      Dec        1026.5     138.5    2983.5\n",
       "       Jun         795.0     116.0    3860.0"
      ]
     },
     "execution_count": 5,
     "metadata": {},
     "output_type": "execute_result"
    }
   ],
   "source": [
    "grouped2 = movie_df.groupby(['rating', 'month'])\n",
    "grouped2.mean()"
   ]
  },
  {
   "cell_type": "markdown",
   "metadata": {},
   "source": [
    "We can see that all films with rating `3` were released in December, and as such only one row corresponds to rating `3`. However, films with rating 4 were released in both December and June, hence there are two rows for this rating. "
   ]
  },
  {
   "cell_type": "markdown",
   "metadata": {},
   "source": [
    "## Querying by values\n",
    "\n",
    "We often want the subset of a dataset that has a particular value.  Pandas makes that easy!  Let's see how to find the movies that were released in December:"
   ]
  },
  {
   "cell_type": "code",
   "execution_count": 6,
   "metadata": {},
   "outputs": [
    {
     "data": {
      "text/html": [
       "<div>\n",
       "<style scoped>\n",
       "    .dataframe tbody tr th:only-of-type {\n",
       "        vertical-align: middle;\n",
       "    }\n",
       "\n",
       "    .dataframe tbody tr th {\n",
       "        vertical-align: top;\n",
       "    }\n",
       "\n",
       "    .dataframe thead th {\n",
       "        text-align: right;\n",
       "    }\n",
       "</style>\n",
       "<table border=\"1\" class=\"dataframe\">\n",
       "  <thead>\n",
       "    <tr style=\"text-align: right;\">\n",
       "      <th></th>\n",
       "      <th>film</th>\n",
       "      <th>mean views</th>\n",
       "      <th>date</th>\n",
       "      <th>month</th>\n",
       "      <th>run time</th>\n",
       "      <th>theaters</th>\n",
       "      <th>rating</th>\n",
       "    </tr>\n",
       "  </thead>\n",
       "  <tbody>\n",
       "    <tr>\n",
       "      <th>0</th>\n",
       "      <td>Little Women</td>\n",
       "      <td>908</td>\n",
       "      <td>2019-12-25</td>\n",
       "      <td>Dec</td>\n",
       "      <td>135</td>\n",
       "      <td>1093</td>\n",
       "      <td>4</td>\n",
       "    </tr>\n",
       "    <tr>\n",
       "      <th>1</th>\n",
       "      <td>Cats</td>\n",
       "      <td>102</td>\n",
       "      <td>2019-12-20</td>\n",
       "      <td>Dec</td>\n",
       "      <td>110</td>\n",
       "      <td>987</td>\n",
       "      <td>3</td>\n",
       "    </tr>\n",
       "    <tr>\n",
       "      <th>2</th>\n",
       "      <td>Jumanji</td>\n",
       "      <td>3604</td>\n",
       "      <td>2019-12-04</td>\n",
       "      <td>Dec</td>\n",
       "      <td>123</td>\n",
       "      <td>4038</td>\n",
       "      <td>3</td>\n",
       "    </tr>\n",
       "    <tr>\n",
       "      <th>3</th>\n",
       "      <td>Star Wars</td>\n",
       "      <td>1145</td>\n",
       "      <td>2019-12-18</td>\n",
       "      <td>Dec</td>\n",
       "      <td>142</td>\n",
       "      <td>4874</td>\n",
       "      <td>4</td>\n",
       "    </tr>\n",
       "  </tbody>\n",
       "</table>\n",
       "</div>"
      ],
      "text/plain": [
       "           film  mean views       date month  run time  theaters  rating\n",
       "0  Little Women         908 2019-12-25   Dec       135      1093       4\n",
       "1          Cats         102 2019-12-20   Dec       110       987       3\n",
       "2       Jumanji        3604 2019-12-04   Dec       123      4038       3\n",
       "3     Star Wars        1145 2019-12-18   Dec       142      4874       4"
      ]
     },
     "execution_count": 6,
     "metadata": {},
     "output_type": "execute_result"
    }
   ],
   "source": [
    "movie_df[movie_df[\"month\"] == \"Dec\"]"
   ]
  },
  {
   "cell_type": "markdown",
   "metadata": {},
   "source": [
    "Write an expression to find all of the films with fewer than 1,000 mean views:"
   ]
  },
  {
   "cell_type": "code",
   "execution_count": 10,
   "metadata": {
    "scrolled": false
   },
   "outputs": [
    {
     "data": {
      "text/html": [
       "<div>\n",
       "<style scoped>\n",
       "    .dataframe tbody tr th:only-of-type {\n",
       "        vertical-align: middle;\n",
       "    }\n",
       "\n",
       "    .dataframe tbody tr th {\n",
       "        vertical-align: top;\n",
       "    }\n",
       "\n",
       "    .dataframe thead th {\n",
       "        text-align: right;\n",
       "    }\n",
       "</style>\n",
       "<table border=\"1\" class=\"dataframe\">\n",
       "  <thead>\n",
       "    <tr style=\"text-align: right;\">\n",
       "      <th></th>\n",
       "      <th>film</th>\n",
       "      <th>mean views</th>\n",
       "      <th>date</th>\n",
       "      <th>month</th>\n",
       "      <th>run time</th>\n",
       "      <th>theaters</th>\n",
       "      <th>rating</th>\n",
       "    </tr>\n",
       "  </thead>\n",
       "  <tbody>\n",
       "    <tr>\n",
       "      <th>0</th>\n",
       "      <td>Little Women</td>\n",
       "      <td>908</td>\n",
       "      <td>2019-12-25</td>\n",
       "      <td>Dec</td>\n",
       "      <td>135</td>\n",
       "      <td>1093</td>\n",
       "      <td>4</td>\n",
       "    </tr>\n",
       "    <tr>\n",
       "      <th>1</th>\n",
       "      <td>Cats</td>\n",
       "      <td>102</td>\n",
       "      <td>2019-12-20</td>\n",
       "      <td>Dec</td>\n",
       "      <td>110</td>\n",
       "      <td>987</td>\n",
       "      <td>3</td>\n",
       "    </tr>\n",
       "    <tr>\n",
       "      <th>4</th>\n",
       "      <td>Yesterday</td>\n",
       "      <td>795</td>\n",
       "      <td>2019-06-28</td>\n",
       "      <td>Jun</td>\n",
       "      <td>116</td>\n",
       "      <td>3860</td>\n",
       "      <td>4</td>\n",
       "    </tr>\n",
       "  </tbody>\n",
       "</table>\n",
       "</div>"
      ],
      "text/plain": [
       "           film  mean views       date month  run time  theaters  rating\n",
       "0  Little Women         908 2019-12-25   Dec       135      1093       4\n",
       "1          Cats         102 2019-12-20   Dec       110       987       3\n",
       "4     Yesterday         795 2019-06-28   Jun       116      3860       4"
      ]
     },
     "execution_count": 10,
     "metadata": {},
     "output_type": "execute_result"
    }
   ],
   "source": [
    "# Write an expression to select every row in movie_df with fewer than 1000 mean views"
   ]
  },
  {
   "cell_type": "code",
   "execution_count": null,
   "metadata": {},
   "outputs": [],
   "source": []
  }
 ],
 "metadata": {
  "kernelspec": {
   "display_name": "Python 3",
   "language": "python",
   "name": "python3"
  },
  "language_info": {
   "codemirror_mode": {
    "name": "ipython",
    "version": 3
   },
   "file_extension": ".py",
   "mimetype": "text/x-python",
   "name": "python",
   "nbconvert_exporter": "python",
   "pygments_lexer": "ipython3",
   "version": "3.7.4"
  }
 },
 "nbformat": 4,
 "nbformat_minor": 4
}
