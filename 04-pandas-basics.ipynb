{
 "cells": [
  {
   "cell_type": "markdown",
   "metadata": {},
   "source": [
    "# Pandas basics\n",
    "\n",
    "[Pandas](https://pandas.pydata.org) is widely used for data analysis in Python and is built on top of NumPy (which we saw in [notebook 1](01-numpy-basics.ipynb)). Pandas and provides data structures which aid analytics as well as tools to manipulate and restructure data, and perform aggregations and queries on that data.\n",
    "\n",
    "\n",
    "This notebook will give you a quick introduction to pandas. Like the earlier notebooks in this series, some of the cells are in question-and-answer format, whilst some contain working code - make sure you think about what these cells are doing whilst going through the notebook.\n",
    "\n",
    "Let's go! \n",
    "\n",
    "## Importing Pandas\n",
    "\n",
    "It is common practise to import `pandas` with the alias of `pd`, thereby saving yourself 4 keystrokes every time you want to type the module name."
   ]
  },
  {
   "cell_type": "code",
   "execution_count": null,
   "metadata": {},
   "outputs": [],
   "source": [
    "import pandas as pd"
   ]
  },
  {
   "cell_type": "markdown",
   "metadata": {},
   "source": [
    "## Creating data structures\n",
    "\n",
    "There are two data structures in pandas: `Series` and `DataFrames`. \n",
    "\n",
    "### Series\n",
    "\n",
    "A pandas [Series](https://pandas.pydata.org/pandas-docs/stable/reference/api/pandas.Series.html#pandas.Series) holds one dimensional data, and indices corresponding to the data. \n",
    "\n",
    "There are a few ways we can make a `Series` but perhaps the simplest is from an array of data:"
   ]
  },
  {
   "cell_type": "code",
   "execution_count": null,
   "metadata": {},
   "outputs": [],
   "source": [
    "dat = pd.Series(['alpha', 'gamma', 'delta', 'omega'])\n",
    "dat"
   ]
  },
  {
   "cell_type": "markdown",
   "metadata": {},
   "source": [
    "You can see that, as well as the data, the `Series` has indices, in this case the integers 0 to 3.\n",
    "\n",
    "We can use these indices to select specific entries from the `Series`:"
   ]
  },
  {
   "cell_type": "code",
   "execution_count": null,
   "metadata": {},
   "outputs": [],
   "source": [
    "dat[3]"
   ]
  },
  {
   "cell_type": "markdown",
   "metadata": {},
   "source": [
    "How would you select the first 3 entries in `dat`?"
   ]
  },
  {
   "cell_type": "code",
   "execution_count": null,
   "metadata": {},
   "outputs": [],
   "source": [
    "# FIXME: only keep this in solution \n",
    "\n",
    "dat[0:3]"
   ]
  },
  {
   "cell_type": "markdown",
   "metadata": {},
   "source": [
    "If we decide we want to change the indices of our `Series` we can do so as follows: "
   ]
  },
  {
   "cell_type": "code",
   "execution_count": null,
   "metadata": {},
   "outputs": [],
   "source": [
    "dat.index = ['a', 'g', 'd', 'o']\n",
    "dat"
   ]
  },
  {
   "cell_type": "markdown",
   "metadata": {},
   "source": [
    "## Initialising a series with the desired indexes and names\n",
    "\n",
    "Instead of changing indexes and names once the `Series` has been initialised, you can do it all in one fell swoop.\n",
    "\n",
    "Using `help(pd.Series)` for guidance, make a new `Series` with the data below and the correct indices and names in one command:"
   ]
  },
  {
   "cell_type": "code",
   "execution_count": null,
   "metadata": {},
   "outputs": [],
   "source": [
    "## Ammend this code so the series\n",
    "## has the correct indices and names\n",
    "\n",
    "dat2 = pd.Series(['epsilon', 'lambda', 'mu'])\n",
    "\n",
    "## Solution: \n",
    "dat2 = pd.Series(['epsilon', 'lambda', 'mu'], index = ['e','l','m'],\n",
    "                 name = 'greek letters')\n",
    "dat2"
   ]
  },
  {
   "cell_type": "markdown",
   "metadata": {},
   "source": [
    "We can also give the index set a name to aid readability of the `Series`: "
   ]
  },
  {
   "cell_type": "code",
   "execution_count": null,
   "metadata": {},
   "outputs": [],
   "source": [
    "dat.index.name = 'latin'\n",
    "dat"
   ]
  },
  {
   "cell_type": "markdown",
   "metadata": {},
   "source": [
    "## Making a Series from a dictionary\n",
    "\n",
    "Another way to make a `Series` is from a Python dict object:"
   ]
  },
  {
   "cell_type": "code",
   "execution_count": null,
   "metadata": {},
   "outputs": [],
   "source": [
    "views = {'Cats': 798, 'Star Wars': 1938, 'Jumanji': 1802}\n",
    "dat3 = pd.Series(views)\n",
    "dat3"
   ]
  },
  {
   "cell_type": "markdown",
   "metadata": {},
   "source": [
    "### NumPy operations on Series\n",
    "\n",
    "In [notebook 1](01-numpy-basics.ipynb) and [2](02-array-programming.ipynb) introduced us to NumPy and we saw how to use some NumPy operations on Python arrays.\n",
    "\n",
    "You can also implement NumPy operations on Pandas objects:"
   ]
  },
  {
   "cell_type": "code",
   "execution_count": null,
   "metadata": {},
   "outputs": [],
   "source": [
    "dat3*2 "
   ]
  },
  {
   "cell_type": "markdown",
   "metadata": {},
   "source": [
    "When applying arithmetic to `Series`, they automatically apply the functions to data by aligning indexes. "
   ]
  },
  {
   "cell_type": "code",
   "execution_count": null,
   "metadata": {},
   "outputs": [],
   "source": [
    "dat4 = pd.Series({'Little Women':908, 'Star Wars': 1145, 'Cats':102})\n",
    "\n",
    "dat3 + dat4"
   ]
  },
  {
   "cell_type": "markdown",
   "metadata": {},
   "source": [
    "Note that if an index does not appear in all of the `Series` involved in the arithmetic, the resulting entry for that index will be `NaN`."
   ]
  },
  {
   "cell_type": "markdown",
   "metadata": {},
   "source": [
    "## DataFrames\n",
    "\n",
    "As well as the one dimensional, indexed `Series` object, pandas contains a `DataFrame` object, which is more similar to a classic two dimensional spreadsheet, with both rows and columns. \n",
    "\n",
    "One easy way to make a `DataFrame` is from a Python Dictionary of Numpy arrays: "
   ]
  },
  {
   "cell_type": "code",
   "execution_count": null,
   "metadata": {},
   "outputs": [],
   "source": [
    "import numpy as np\n",
    "\n",
    "data = {'film':['Little Women', 'Cats', 'Jumanji', 'Star Wars'], \n",
    "       'mean views':[908, 102, 3604, 1145],\n",
    "       'date': [np.datetime64('2019-12-25'), np.datetime64('2019-12-20'), np.datetime64('2019-12-04'), np.datetime64('2019-12-18')], \n",
    "       'run time':[135, 110, 123, 142]}"
   ]
  },
  {
   "cell_type": "code",
   "execution_count": null,
   "metadata": {},
   "outputs": [],
   "source": [
    "movie_df = pd.DataFrame(data) \n",
    "movie_df"
   ]
  },
  {
   "cell_type": "markdown",
   "metadata": {},
   "source": [
    "We used the NumPy date and time functionality to format dates in our `DataFrame`. Remember that you can find out more about a function or object type using the ```help($function)``` command. \n",
    "\n",
    "As we saw with `Series`, rows of the `DataFrame` are indexed with integers. Using the `dir()` and `help()` functions, see if you can change the indexes of the `DataFrame` to the letters `a` to `d`."
   ]
  },
  {
   "cell_type": "code",
   "execution_count": null,
   "metadata": {},
   "outputs": [],
   "source": [
    "#### Solution: \n",
    "\n",
    "movie_df.index=['a', 'b', 'c', 'd']\n",
    "movie_df"
   ]
  },
  {
   "cell_type": "markdown",
   "metadata": {},
   "source": [
    "We can retrieve rows and columns of the `DataFrame` using their index names, like so:"
   ]
  },
  {
   "cell_type": "code",
   "execution_count": null,
   "metadata": {},
   "outputs": [],
   "source": [
    "movie_df['mean views']"
   ]
  },
  {
   "cell_type": "code",
   "execution_count": null,
   "metadata": {},
   "outputs": [],
   "source": [
    "movie_df.loc['b']"
   ]
  },
  {
   "cell_type": "markdown",
   "metadata": {},
   "source": [
    "We can also add columns to the DataFrame: "
   ]
  },
  {
   "cell_type": "code",
   "execution_count": null,
   "metadata": {},
   "outputs": [],
   "source": [
    "movie_df['theaters']=np.array([1093,987,4038,4874])\n",
    "movie_df"
   ]
  },
  {
   "cell_type": "markdown",
   "metadata": {},
   "source": [
    "The `.append` function allows us to add rows to the `DataFrame`. Columns will align based on names."
   ]
  },
  {
   "cell_type": "code",
   "execution_count": null,
   "metadata": {},
   "outputs": [],
   "source": [
    "yday = pd.Series(['yesterday', '795', np.datetime64('2019-06-28'), '116', 'Lily James'])\n",
    "yday.index = ['film', 'mean views', 'date', 'run time', 'star']"
   ]
  },
  {
   "cell_type": "code",
   "execution_count": null,
   "metadata": {},
   "outputs": [],
   "source": [
    "movie_df.append(yday, ignore_index=True)"
   ]
  },
  {
   "cell_type": "markdown",
   "metadata": {},
   "source": [
    "What do you notice has changed about the `DataFrame`?"
   ]
  },
  {
   "cell_type": "markdown",
   "metadata": {},
   "source": [
    "The `.drop` function allows us to delete columns:"
   ]
  },
  {
   "cell_type": "code",
   "execution_count": null,
   "metadata": {},
   "outputs": [],
   "source": [
    "movie_df.drop(columns=['date'])"
   ]
  },
  {
   "cell_type": "markdown",
   "metadata": {},
   "source": [
    "Can you use the `help` function to find out how to delete row `b` from the DataFrame, using the `.drop` function?"
   ]
  },
  {
   "cell_type": "code",
   "execution_count": null,
   "metadata": {},
   "outputs": [],
   "source": [
    "## Solution \n",
    "\n",
    "#help(pd.DataFrame.drop)\n",
    "#movie_df.drop('b')"
   ]
  },
  {
   "cell_type": "markdown",
   "metadata": {},
   "source": [
    "As well as adding and deleting data from the `DataFrame` it is important to be able to transform and apply functions to the data in the `DataFrame`. We can sort the `DataFrame` by one (or more) of its columns using the `.sort_values` function:"
   ]
  },
  {
   "cell_type": "code",
   "execution_count": null,
   "metadata": {},
   "outputs": [],
   "source": [
    "movie_df.sort_values(by = 'mean views')"
   ]
  },
  {
   "cell_type": "markdown",
   "metadata": {},
   "source": [
    "To illustrate other functions we can apply to the `DataFrame` let's first make a `DataFrame` that just contains the columns `mean views`, `run time` and `theaters`:"
   ]
  },
  {
   "cell_type": "code",
   "execution_count": null,
   "metadata": {},
   "outputs": [],
   "source": [
    "movie_df2 = movie_df[['mean views', 'run time', 'theaters']]\n",
    "movie_df2"
   ]
  },
  {
   "cell_type": "markdown",
   "metadata": {},
   "source": [
    "We can compute the mean value down columns using the `.mean` function:"
   ]
  },
  {
   "cell_type": "code",
   "execution_count": null,
   "metadata": {},
   "outputs": [],
   "source": [
    "movie_df2.mean()"
   ]
  },
  {
   "cell_type": "markdown",
   "metadata": {},
   "source": [
    "Using the `axis` parameter we are able to apply the same function across the rows: "
   ]
  },
  {
   "cell_type": "code",
   "execution_count": null,
   "metadata": {},
   "outputs": [],
   "source": [
    "movie_df2.mean(axis=1)"
   ]
  },
  {
   "cell_type": "markdown",
   "metadata": {},
   "source": [
    "Take a look at the `help` function to see what other column summaries compute. "
   ]
  },
  {
   "cell_type": "markdown",
   "metadata": {},
   "source": [
    "We can also apply functions we define to a `DataFrame`: "
   ]
  },
  {
   "cell_type": "code",
   "execution_count": null,
   "metadata": {},
   "outputs": [],
   "source": [
    "movie_df2.apply(lambda x: x^2)"
   ]
  }
 ],
 "metadata": {
  "kernelspec": {
   "display_name": "Python 3",
   "language": "python",
   "name": "python3"
  },
  "language_info": {
   "codemirror_mode": {
    "name": "ipython",
    "version": 3
   },
   "file_extension": ".py",
   "mimetype": "text/x-python",
   "name": "python",
   "nbconvert_exporter": "python",
   "pygments_lexer": "ipython3",
   "version": "3.7.4"
  }
 },
 "nbformat": 4,
 "nbformat_minor": 4
}
