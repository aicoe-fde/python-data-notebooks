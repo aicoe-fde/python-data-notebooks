{
 "cells": [
  {
   "cell_type": "markdown",
   "metadata": {},
   "source": [
    "# Array programming in NumPy\n",
    "\n",
    "While many of the array operations that are familiar to you from Python lists will also work with NumPy arrays, an important difference between NumPy arrays and Python lists is how we _should_ operate on them.  Specifically, to use NumPy arrays idiomatically, you sometimes need to think in terms of programming with arrays.  This means that some operations will have results that you don't expect if you're thinking of how Python lists work.\n",
    "\n",
    "For example, consider the `max` function in Python:"
   ]
  },
  {
   "cell_type": "code",
   "execution_count": null,
   "metadata": {},
   "outputs": [],
   "source": [
    "help(max)"
   ]
  },
  {
   "cell_type": "markdown",
   "metadata": {},
   "source": [
    "So `max` returns its maximum argument.  If its arguments are lists, it will return the list with the largest first element (if there is a tie, it will return the list from the tie with the largest second element, and so on).  Try it out:"
   ]
  },
  {
   "cell_type": "code",
   "execution_count": null,
   "metadata": {},
   "outputs": [],
   "source": [
    "max([1,1,5,9],[1,2,4,6])"
   ]
  },
  {
   "cell_type": "markdown",
   "metadata": {},
   "source": [
    "The similarly-named NumPy `maximum` function has a slightly different interface and subtly-different behavior.  While the built-in `max` function will take the maximum from any number of arguments, NumPy's `maximum` takes two.  Furthermore, its result is slightly different, as you can see."
   ]
  },
  {
   "cell_type": "code",
   "execution_count": null,
   "metadata": {},
   "outputs": [],
   "source": [
    "import numpy as np\n",
    "np.maximum([1,1,5,9],[1,2,4,6])"
   ]
  },
  {
   "cell_type": "markdown",
   "metadata": {},
   "source": [
    "(Notice that we invoked `np.maximum` on two Python lists, but it would behave similarly on two NumPy arrays.)"
   ]
  },
  {
   "cell_type": "code",
   "execution_count": null,
   "metadata": {},
   "outputs": [],
   "source": [
    "np.maximum(np.array([1,1,5,9]),np.array([1,2,4,6]))"
   ]
  },
  {
   "cell_type": "markdown",
   "metadata": {},
   "source": [
    "What did it do?\n",
    "\n",
    "This may not have been what you expect, but operations that work on entire arrays an element at a time (rather than on entire arrays  as atomic objects) are extremely important in NumPy.  We can see another example in the next two cells:"
   ]
  },
  {
   "cell_type": "code",
   "execution_count": null,
   "metadata": {},
   "outputs": [],
   "source": [
    "[1,2,5,9] * 3"
   ]
  },
  {
   "cell_type": "code",
   "execution_count": null,
   "metadata": {},
   "outputs": [],
   "source": [
    "np.array([1,2,5,9]) * 3"
   ]
  },
  {
   "cell_type": "markdown",
   "metadata": {},
   "source": [
    "These elementwise operations are useful and they're also far more efficient than code you'd write in Python.  To see why, write a Python function to take the elementwise maximum of two arrays and compare its performance to `np.maximum`.   First, let's set up some test data:"
   ]
  },
  {
   "cell_type": "code",
   "execution_count": null,
   "metadata": {},
   "outputs": [],
   "source": [
    "np.random.seed(0xDA7ABA5E)\n",
    "ls1 = list(np.random.randint(256, size=5000))\n",
    "ls2 = list(np.random.randint(256, size=5000))"
   ]
  },
  {
   "cell_type": "code",
   "execution_count": null,
   "metadata": {},
   "outputs": [],
   "source": [
    "%%time\n",
    "\n",
    "def nmax(la, lb):\n",
    "    # FIXME: replace this function's body with a function that computes \n",
    "    # and returns the elementwise maximum of a and b.  Do not use NumPy.\n",
    "    return la\n",
    "\n",
    "for i in range(10000):\n",
    "    nmax(ls1, ls2)\n",
    "    pass"
   ]
  },
  {
   "cell_type": "markdown",
   "metadata": {},
   "source": [
    "If you get stuck on the previous cell, [see the hint](hints/hint02.ipynb)."
   ]
  },
  {
   "cell_type": "code",
   "execution_count": null,
   "metadata": {},
   "outputs": [],
   "source": [
    "%%time\n",
    "\n",
    "def pmax(a, b):\n",
    "    return np.maximum(a, b)\n",
    "\n",
    "for i in range(10000):\n",
    "    pmax(ls1, ls2)\n",
    "    pass"
   ]
  },
  {
   "cell_type": "code",
   "execution_count": null,
   "metadata": {},
   "outputs": [],
   "source": []
  }
 ],
 "metadata": {
  "kernelspec": {
   "display_name": "Python 3",
   "language": "python",
   "name": "python3"
  },
  "language_info": {
   "codemirror_mode": {
    "name": "ipython",
    "version": 3
   },
   "file_extension": ".py",
   "mimetype": "text/x-python",
   "name": "python",
   "nbconvert_exporter": "python",
   "pygments_lexer": "ipython3",
   "version": "3.7.3"
  }
 },
 "nbformat": 4,
 "nbformat_minor": 2
}
