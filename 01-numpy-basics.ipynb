{
 "cells": [
  {
   "cell_type": "markdown",
   "metadata": {},
   "source": [
    "# NumPy basics\n",
    "\n",
    "[NumPy](https://numpy.org) is an important library for numerical computation in Python.  It includes a multidimensional array object, efficient support for array-wise operations, linear algebra primitives, and more.\n",
    "\n",
    "In this notebook, you'll get a quick introduction to NumPy in a question-and-answer format.  In some of the cells, we've filled in working code for you;  you should think about what these cells do before you execute them (and then figure out why they did what they did after you execute them).  Other cells will require you to write code.  Let's get started!\n",
    "\n",
    "## Importing NumPy\n",
    "\n",
    "By convention, many programmers import `numpy` with the alias of `np`.  (You'll be typing this module name a lot, so it'll be nice to save a few keystrokes each time.)"
   ]
  },
  {
   "cell_type": "code",
   "execution_count": 1,
   "metadata": {},
   "outputs": [],
   "source": [
    "import numpy as np"
   ]
  },
  {
   "cell_type": "markdown",
   "metadata": {},
   "source": [
    "##  One-dimensional arrays\n",
    "\n",
    "Let's start by creating a numpy [array](https://docs.scipy.org/doc/numpy/reference/generated/numpy.ndarray.html) object, which is called `ndarray`, although we will usually refer to it by the alias `array`.  \n",
    "\n",
    "###  Initializing arrays from Python lists\n",
    "\n",
    "There are a few ways to initialize an `array`.\n",
    "\n",
    "How would you initialize an `array` from a Python list?"
   ]
  },
  {
   "cell_type": "code",
   "execution_count": 3,
   "metadata": {},
   "outputs": [
    {
     "data": {
      "text/plain": [
       "array([1, 1, 2, 3, 5, 8])"
      ]
     },
     "execution_count": 3,
     "metadata": {},
     "output_type": "execute_result"
    }
   ],
   "source": [
    "np.array([1,1,2,3,5,8])"
   ]
  },
  {
   "cell_type": "markdown",
   "metadata": {},
   "source": [
    "###  Initializing arrays from ranges and Python iterators\n",
    "\n",
    "We might also want to initialize an array with a sequential range of integers.  Recall that we can generate an iterator over the range of numbers from 0 to _n - 1_ with the Python function `range(n)`.\n",
    "\n",
    "How would you initialize a numpy array containing the numbers `0` through `9`?"
   ]
  },
  {
   "cell_type": "code",
   "execution_count": 4,
   "metadata": {},
   "outputs": [
    {
     "data": {
      "text/plain": [
       "array([0, 1, 2, 3, 4, 5, 6, 7, 8, 9])"
      ]
     },
     "execution_count": 4,
     "metadata": {},
     "output_type": "execute_result"
    }
   ],
   "source": [
    "# FIXME:  only keep this in the solution\n",
    "\n",
    "np.array(range(10))"
   ]
  },
  {
   "cell_type": "markdown",
   "metadata": {},
   "source": [
    "That's a good start!  \n",
    "\n",
    "But — as we'll see regularly in this tutorial — the way you might do something using Python's library and builtins isn't necessarily the way you'd want do the same thing with NumPy.  NumPy provides a number of special-case operations that are faster or more convenient (or both!) than their standard Python equivalents.  One such example is the `arange` function, which populates an array  with a range.\n",
    "\n",
    "Are there any differences between `np.arange(10)` and `np.array(range(10))`?"
   ]
  },
  {
   "cell_type": "code",
   "execution_count": 9,
   "metadata": {},
   "outputs": [
    {
     "data": {
      "text/plain": [
       "array([0, 1, 2, 3, 4, 5, 6, 7, 8, 9])"
      ]
     },
     "execution_count": 9,
     "metadata": {},
     "output_type": "execute_result"
    }
   ],
   "source": [
    "np.arange(10)"
   ]
  },
  {
   "cell_type": "markdown",
   "metadata": {},
   "source": [
    "It looks like they return the same result!  But do you suppose there is a reason to prefer one or the other?\n",
    "\n",
    "### Sidebar:  timing code in notebooks\n",
    "\n",
    "`np.arange(10)` is slightly fewer keystrokes, but that may not make a difference to us.  But Perhaps it's also faster to execute?\n",
    "\n",
    "We can get timings for individual notebook cells in Jupyter by using so-called \"Jupyter magic,\" or special directives in code cells.  In particular,  we'll add `%%time` to the beginning of a code cell and Jupyter will report how long it takes to execute.  Timing very short code executions is error-prone, so we'll construct many arrays using each method to see if one is faster than the other."
   ]
  },
  {
   "cell_type": "code",
   "execution_count": 12,
   "metadata": {},
   "outputs": [
    {
     "name": "stdout",
     "output_type": "stream",
     "text": [
      "CPU times: user 193 ms, sys: 5 ms, total: 198 ms\n",
      "Wall time: 223 ms\n"
     ]
    }
   ],
   "source": [
    "%%time\n",
    "\n",
    "for _ in range(10000):\n",
    "    np.array(range(100))"
   ]
  },
  {
   "cell_type": "code",
   "execution_count": 13,
   "metadata": {},
   "outputs": [
    {
     "name": "stdout",
     "output_type": "stream",
     "text": [
      "CPU times: user 12.3 ms, sys: 2.34 ms, total: 14.7 ms\n",
      "Wall time: 15.8 ms\n"
     ]
    }
   ],
   "source": [
    "%%time\n",
    "\n",
    "for _ in range(10000):\n",
    "    np.arange(100)"
   ]
  },
  {
   "cell_type": "markdown",
   "metadata": {},
   "source": [
    "As we can see, one of these options is significantly faster.  If we're analyzing data, running a simulation, or training a machine learning model, we'll want our numeric code to be as fast as possible, so it's important to choose the best option for a given use case.\n",
    "\n",
    "### Initializing arrays with a constant value\n",
    "\n",
    "Remember that we can create a Python list consisting of a constant value with the `*` operator, like this:"
   ]
  },
  {
   "cell_type": "code",
   "execution_count": 14,
   "metadata": {},
   "outputs": [
    {
     "data": {
      "text/plain": [
       "[5, 5, 5, 5, 5]"
      ]
     },
     "execution_count": 14,
     "metadata": {},
     "output_type": "execute_result"
    }
   ],
   "source": [
    "[5] * 5"
   ]
  },
  {
   "cell_type": "markdown",
   "metadata": {},
   "source": [
    "Edit the following cell to make a numpy array of twelve fives."
   ]
  },
  {
   "cell_type": "code",
   "execution_count": 15,
   "metadata": {},
   "outputs": [
    {
     "data": {
      "text/plain": [
       "array(None, dtype=object)"
      ]
     },
     "execution_count": 15,
     "metadata": {},
     "output_type": "execute_result"
    }
   ],
   "source": [
    "# replace None with an expression so that this cell \n",
    "# will return a numpy array with twelve fives \n",
    "\n",
    "np.array(None)"
   ]
  },
  {
   "cell_type": "markdown",
   "metadata": {},
   "source": [
    "We can instead create a numpy array without initializing its elements (using the `empty` function)  and then fill it in with a constant value in place (using the `fill` member of `ndarray`)."
   ]
  },
  {
   "cell_type": "code",
   "execution_count": 22,
   "metadata": {},
   "outputs": [
    {
     "data": {
      "text/plain": [
       "array([5, 5, 5, 5, 5, 5, 5, 5, 5, 5, 5, 5], dtype=int32)"
      ]
     },
     "execution_count": 22,
     "metadata": {},
     "output_type": "execute_result"
    }
   ],
   "source": [
    "a = np.empty(12, 'i')\n",
    "a.fill(5)\n",
    "a"
   ]
  },
  {
   "cell_type": "markdown",
   "metadata": {},
   "source": [
    "Let's see which of these is faster!"
   ]
  },
  {
   "cell_type": "code",
   "execution_count": 29,
   "metadata": {},
   "outputs": [
    {
     "name": "stdout",
     "output_type": "stream",
     "text": [
      "CPU times: user 199 ms, sys: 4.61 ms, total: 204 ms\n",
      "Wall time: 211 ms\n"
     ]
    }
   ],
   "source": [
    "%%time \n",
    "\n",
    "for _ in range(100000):\n",
    "    np.array([5] * 12) "
   ]
  },
  {
   "cell_type": "code",
   "execution_count": 28,
   "metadata": {},
   "outputs": [
    {
     "name": "stdout",
     "output_type": "stream",
     "text": [
      "CPU times: user 144 ms, sys: 3.51 ms, total: 147 ms\n",
      "Wall time: 161 ms\n"
     ]
    }
   ],
   "source": [
    "%%time \n",
    "\n",
    "for _ in range(100000):\n",
    "    a = np.empty(12, 'i')\n",
    "    a.fill(5)\n",
    "    a "
   ]
  },
  {
   "cell_type": "markdown",
   "metadata": {},
   "source": [
    "It may also be interesting to compare the performance of these two  techniques while creating larger arrays."
   ]
  },
  {
   "cell_type": "code",
   "execution_count": 32,
   "metadata": {},
   "outputs": [
    {
     "name": "stdout",
     "output_type": "stream",
     "text": [
      "CPU times: user 6.09 s, sys: 19.1 ms, total: 6.11 s\n",
      "Wall time: 6.18 s\n"
     ]
    }
   ],
   "source": [
    "%%time \n",
    "\n",
    "for _ in range(100000):\n",
    "    np.array([5] * 1000) "
   ]
  },
  {
   "cell_type": "code",
   "execution_count": 33,
   "metadata": {},
   "outputs": [
    {
     "name": "stdout",
     "output_type": "stream",
     "text": [
      "CPU times: user 181 ms, sys: 4.63 ms, total: 186 ms\n",
      "Wall time: 218 ms\n"
     ]
    }
   ],
   "source": [
    "%%time \n",
    "\n",
    "for _ in range(100000):\n",
    "    a = np.empty(1000, 'i')\n",
    "    a.fill(5)\n",
    "    a "
   ]
  },
  {
   "cell_type": "markdown",
   "metadata": {},
   "source": [
    "(You may have noticed the `'i'` argument to `np.empty`.   What do you suppose it does?  What happens if you remove it?)\n",
    "\n",
    "### Special case:  initializing arrays of zeroes\n",
    "\n",
    "NumPy provides a special function to initialize an array of zeroes.   Without searching the internet, replace the code in the following cell with a call to this special function that will return the same result.  (Hint:  use `dir(np)` to find the name of this function and `help` to get documentation on it.)"
   ]
  },
  {
   "cell_type": "code",
   "execution_count": 34,
   "metadata": {},
   "outputs": [
    {
     "data": {
      "text/plain": [
       "array([0, 0, 0, 0, 0, 0, 0, 0, 0, 0, 0, 0, 0, 0, 0, 0, 0, 0, 0, 0, 0, 0,\n",
       "       0, 0, 0, 0, 0, 0, 0, 0, 0, 0, 0, 0, 0, 0, 0, 0, 0, 0, 0, 0, 0, 0,\n",
       "       0, 0, 0, 0, 0, 0, 0, 0, 0, 0, 0, 0, 0, 0, 0, 0, 0, 0, 0, 0, 0, 0,\n",
       "       0, 0, 0, 0, 0, 0, 0, 0, 0, 0, 0, 0, 0, 0, 0, 0, 0, 0, 0, 0, 0, 0,\n",
       "       0, 0, 0, 0, 0, 0, 0, 0, 0, 0, 0, 0])"
      ]
     },
     "execution_count": 34,
     "metadata": {},
     "output_type": "execute_result"
    }
   ],
   "source": [
    "np.array([0] * 100)"
   ]
  },
  {
   "cell_type": "markdown",
   "metadata": {},
   "source": [
    "Write an experiment to see which is faster, using the `%%time` magic."
   ]
  },
  {
   "cell_type": "code",
   "execution_count": 35,
   "metadata": {},
   "outputs": [],
   "source": [
    "# Test the time performance of np.array([0] * 100)"
   ]
  },
  {
   "cell_type": "code",
   "execution_count": 36,
   "metadata": {},
   "outputs": [],
   "source": [
    "# Test the time performance of the special numpy function \n",
    "# that produces an array of one hundred zeroes"
   ]
  },
  {
   "cell_type": "code",
   "execution_count": null,
   "metadata": {},
   "outputs": [],
   "source": []
  }
 ],
 "metadata": {
  "kernelspec": {
   "display_name": "Python 3",
   "language": "python",
   "name": "python3"
  },
  "language_info": {
   "codemirror_mode": {
    "name": "ipython",
    "version": 3
   },
   "file_extension": ".py",
   "mimetype": "text/x-python",
   "name": "python",
   "nbconvert_exporter": "python",
   "pygments_lexer": "ipython3",
   "version": "3.7.3"
  }
 },
 "nbformat": 4,
 "nbformat_minor": 2
}
