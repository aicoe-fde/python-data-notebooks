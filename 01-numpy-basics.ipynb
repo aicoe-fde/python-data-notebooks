{
 "cells": [
  {
   "cell_type": "markdown",
   "metadata": {},
   "source": [
    "# NumPy basics\n",
    "\n",
    "[NumPy](https://numpy.org) is an important library for numerical computation in Python.  It includes a multidimensional array object, efficient support for array-wise operations, linear algebra primitives, and more.\n",
    "\n",
    "In this notebook, you'll get a quick introduction to NumPy, some of which is in a question-and-answer format.  In some of the cells, we've filled in working code for you;  you should think about what these cells do before you execute them (and then figure out why they did what they did after you execute them).  Other cells will require you to write code.  \n",
    "\n",
    "Let's get started!\n",
    "\n",
    "## Importing NumPy\n",
    "\n",
    "By convention, many programmers import `numpy` with the alias of `np`.  (You'll be typing this module name a lot, so it'll be nice to save a few keystrokes each time.)"
   ]
  },
  {
   "cell_type": "code",
   "execution_count": null,
   "metadata": {},
   "outputs": [],
   "source": [
    "import numpy as np"
   ]
  },
  {
   "cell_type": "markdown",
   "metadata": {},
   "source": [
    "##  Creating one-dimensional arrays\n",
    "\n",
    "Let's start by creating a numpy [array](https://docs.scipy.org/doc/numpy/reference/generated/numpy.ndarray.html) object, which is called `ndarray`, although we will usually refer to it by the alias `array`.  \n",
    "\n",
    "###  Initializing arrays from Python lists\n",
    "\n",
    "There are a few ways to initialize an `array`.\n",
    "\n",
    "How would you initialize an `array` from a Python list?"
   ]
  },
  {
   "cell_type": "code",
   "execution_count": null,
   "metadata": {},
   "outputs": [],
   "source": [
    "np.array([1,1,2,3,5,8])"
   ]
  },
  {
   "cell_type": "markdown",
   "metadata": {},
   "source": [
    "###  Initializing arrays from ranges and Python iterators\n",
    "\n",
    "We might also want to initialize an array with a sequential range of integers.  Recall that we can generate an iterator over the range of numbers from 0 to _n - 1_ with the Python function `range(n)`.\n",
    "\n",
    "How would you initialize a numpy array containing the numbers `0` through `9`?"
   ]
  },
  {
   "cell_type": "code",
   "execution_count": null,
   "metadata": {},
   "outputs": [],
   "source": [
    "# FIXME:  only keep this in the solution\n",
    "\n",
    "np.array(range(10))"
   ]
  },
  {
   "cell_type": "markdown",
   "metadata": {},
   "source": [
    "That's a good start!  \n",
    "\n",
    "But — as we'll see regularly in this tutorial — the way you might do something using Python's library and builtins isn't necessarily the way you'd want do the same thing with NumPy.  NumPy provides a number of special-case operations that are faster or more convenient (or both!) than their standard Python equivalents.  One such example is the `arange` function, which populates an array  with a range.\n",
    "\n",
    "Are there any differences between `np.arange(10)` and `np.array(range(10))`?"
   ]
  },
  {
   "cell_type": "code",
   "execution_count": null,
   "metadata": {},
   "outputs": [],
   "source": [
    "np.arange(10)"
   ]
  },
  {
   "cell_type": "markdown",
   "metadata": {},
   "source": [
    "It looks like they return the same result!  But do you suppose there is a reason to prefer one or the other?\n",
    "\n",
    "### Sidebar:  timing code in notebooks\n",
    "\n",
    "`np.arange(10)` is slightly fewer keystrokes, but that may not make a difference to us.  But Perhaps it's also faster to execute?\n",
    "\n",
    "We can get timings for individual notebook cells in Jupyter by using so-called \"Jupyter magic,\" or special directives in code cells.  In particular,  we'll add `%%time` to the beginning of a code cell and Jupyter will report how long it takes to execute.  Timing very short code executions is error-prone, so we'll construct many arrays using each method to see if one is faster than the other."
   ]
  },
  {
   "cell_type": "code",
   "execution_count": null,
   "metadata": {},
   "outputs": [],
   "source": [
    "%%time\n",
    "\n",
    "for _ in range(10000):\n",
    "    np.array(range(100))"
   ]
  },
  {
   "cell_type": "code",
   "execution_count": null,
   "metadata": {},
   "outputs": [],
   "source": [
    "%%time\n",
    "\n",
    "for _ in range(10000):\n",
    "    np.arange(100)"
   ]
  },
  {
   "cell_type": "markdown",
   "metadata": {},
   "source": [
    "As we can see, one of these options is significantly faster.  If we're analyzing data, running a simulation, or training a machine learning model, we'll want our numeric code to be as fast as possible, so it's important to choose the best option for a given use case.\n",
    "\n",
    "### More on ranges\n",
    "\n",
    "NumPy also has functions to initialize an array with values evenly spaced across a linear or logarithmic scale.  Can you figure out what the arguments to these functions mean?  (Use `help(np.linspace)` if you need more information!)"
   ]
  },
  {
   "cell_type": "code",
   "execution_count": null,
   "metadata": {},
   "outputs": [],
   "source": [
    "np.linspace(0, 5, 16)"
   ]
  },
  {
   "cell_type": "code",
   "execution_count": null,
   "metadata": {},
   "outputs": [],
   "source": [
    "np.logspace(0, 10, 11, base=2)"
   ]
  },
  {
   "cell_type": "markdown",
   "metadata": {},
   "source": [
    "### Initializing arrays with a constant value\n",
    "\n",
    "Remember that we can append a Python list to itself several times with the `*` operator.  We can use this behavior to make a Python list containing a constant value:"
   ]
  },
  {
   "cell_type": "code",
   "execution_count": null,
   "metadata": {},
   "outputs": [],
   "source": [
    "[5] * 5"
   ]
  },
  {
   "cell_type": "markdown",
   "metadata": {},
   "source": [
    "Edit the following cell to make a numpy array of twelve fives."
   ]
  },
  {
   "cell_type": "code",
   "execution_count": null,
   "metadata": {},
   "outputs": [],
   "source": [
    "# replace None with an expression so that this cell \n",
    "# will return a numpy array with twelve fives \n",
    "\n",
    "np.array(None)"
   ]
  },
  {
   "cell_type": "markdown",
   "metadata": {},
   "source": [
    "We could also use the `full` function to generate an array of a given shape (in this case, a one-dimensional array with twelve elements) and the same value in each element:"
   ]
  },
  {
   "cell_type": "code",
   "execution_count": null,
   "metadata": {},
   "outputs": [],
   "source": [
    "np.full(12, 5)"
   ]
  },
  {
   "cell_type": "markdown",
   "metadata": {},
   "source": [
    "Let's see which of these is faster!"
   ]
  },
  {
   "cell_type": "code",
   "execution_count": null,
   "metadata": {},
   "outputs": [],
   "source": [
    "%%time \n",
    "\n",
    "for _ in range(100000):\n",
    "    np.array([5] * 12) "
   ]
  },
  {
   "cell_type": "code",
   "execution_count": null,
   "metadata": {},
   "outputs": [],
   "source": [
    "%%time \n",
    "\n",
    "for _ in range(100000):\n",
    "    np.full(12, 5)"
   ]
  },
  {
   "cell_type": "markdown",
   "metadata": {},
   "source": [
    "It may also be interesting to compare the performance of these two  techniques while creating larger arrays."
   ]
  },
  {
   "cell_type": "code",
   "execution_count": null,
   "metadata": {},
   "outputs": [],
   "source": [
    "%%time \n",
    "\n",
    "for _ in range(100000):\n",
    "    np.array([5] * 1000) "
   ]
  },
  {
   "cell_type": "code",
   "execution_count": null,
   "metadata": {},
   "outputs": [],
   "source": [
    "%%time \n",
    "\n",
    "for _ in range(100000):\n",
    "    np.full(1000, 5)"
   ]
  },
  {
   "cell_type": "markdown",
   "metadata": {},
   "source": [
    "### Special case:  initializing arrays of zeroes or ones\n",
    "\n",
    "NumPy provides special functions to initialize an array of zeroes or an  array of ones.   Without searching the internet, replace the code in the following cell with a call to this special function that will return the same result.  (Hint:  use `dir(np)` to find the name of this function and `help` to get documentation on it.)"
   ]
  },
  {
   "cell_type": "code",
   "execution_count": null,
   "metadata": {},
   "outputs": [],
   "source": [
    "np.array([0] * 100)"
   ]
  },
  {
   "cell_type": "markdown",
   "metadata": {},
   "source": [
    "Write an experiment to see which is faster, using the `%%time` magic."
   ]
  },
  {
   "cell_type": "code",
   "execution_count": null,
   "metadata": {},
   "outputs": [],
   "source": [
    "%%time\n",
    "\n",
    "# Test the time performance of np.array([0] * 100)"
   ]
  },
  {
   "cell_type": "code",
   "execution_count": null,
   "metadata": {},
   "outputs": [],
   "source": [
    "%%time\n",
    "\n",
    "# Test the time performance of the special numpy function \n",
    "# that produces an array zeroes by repeatedly generating\n",
    "# arrays of one hundred zeroes"
   ]
  },
  {
   "cell_type": "markdown",
   "metadata": {},
   "source": [
    "### Creating empty arrays and filling arrays\n",
    "\n",
    "We could also create a numpy array without initializing its elements (using the `empty` function)  and then fill it in with a constant value in place (using the `fill` member of `ndarray`)."
   ]
  },
  {
   "cell_type": "code",
   "execution_count": null,
   "metadata": {},
   "outputs": [],
   "source": [
    "a = np.empty(12, int)\n",
    "a.fill(15)\n",
    "a"
   ]
  },
  {
   "cell_type": "markdown",
   "metadata": {},
   "source": [
    "(You may have noticed the `int` argument to `np.empty`.   What do you suppose it does?  What happens if you remove it?  Stay tuned...)"
   ]
  },
  {
   "cell_type": "markdown",
   "metadata": {},
   "source": [
    "## Basic array operations\n",
    "\n",
    "In this section of the notebook, we'll see how the basic array operations we know from Python also apply to NumPy arrays.\n",
    "\n",
    "Let's start by creating two similar arrays:"
   ]
  },
  {
   "cell_type": "code",
   "execution_count": null,
   "metadata": {},
   "outputs": [],
   "source": [
    "pa = [n for n in range(100)]\n",
    "na = np.arange(100)"
   ]
  },
  {
   "cell_type": "markdown",
   "metadata": {},
   "source": [
    "How would you see how many elements are in a Python array?"
   ]
  },
  {
   "cell_type": "code",
   "execution_count": null,
   "metadata": {},
   "outputs": [],
   "source": [
    "len(pa)"
   ]
  },
  {
   "cell_type": "markdown",
   "metadata": {},
   "source": [
    "Great!  Does this also work for a NumPy array?"
   ]
  },
  {
   "cell_type": "code",
   "execution_count": null,
   "metadata": {},
   "outputs": [],
   "source": [
    "len(na)"
   ]
  },
  {
   "cell_type": "markdown",
   "metadata": {},
   "source": [
    "It does!  (You can also use the `size` member of a NumPy array to see how many elements it contains, like we'll do in the next cell.)"
   ]
  },
  {
   "cell_type": "code",
   "execution_count": null,
   "metadata": {},
   "outputs": [],
   "source": [
    "na.size"
   ]
  },
  {
   "cell_type": "markdown",
   "metadata": {},
   "source": [
    "How would you access the fifth element of a Python array?   (Remember that the _first_ element of an array is numbered `0`!)"
   ]
  },
  {
   "cell_type": "code",
   "execution_count": null,
   "metadata": {},
   "outputs": [],
   "source": [
    "# write an expression to access the fifth element of pa"
   ]
  },
  {
   "cell_type": "code",
   "execution_count": null,
   "metadata": {},
   "outputs": [],
   "source": [
    "# write an expression to access the fifth element of na"
   ]
  },
  {
   "cell_type": "markdown",
   "metadata": {},
   "source": [
    "Both expressions should have evaluated to `4`.  You can also update array elements in the same way.  Write some code to change the first element of each array to `1000`."
   ]
  },
  {
   "cell_type": "code",
   "execution_count": null,
   "metadata": {},
   "outputs": [],
   "source": [
    "# write a statement to set the first element of pa to 1000\n",
    "# write a statement to set the first element of na to 1000"
   ]
  },
  {
   "cell_type": "markdown",
   "metadata": {},
   "source": [
    "Python arrays also support some interesting indexing modes to access from the end of the array or to access a _slice_ of contiguous values in the array.  For example;\n",
    "\n",
    "- `pa[-1]` will give you the last element of `pa`, :\n",
    "- `pa[2:]` will give you a _slice_ consisting of the contiguous elements of `pa` starting from the third through the end of the array,\n",
    "- `pa[:5]` will give you a _slice_ consisting of the first five elements of `pa`, and\n",
    "- `pa[1:6]` will give you a _slice_ consisting of the second through sixth elements of `pa`.\n",
    "\n",
    "You can also combine these modes, for example, to start or end a slice at an offset from the end of the array.  Try it out now!"
   ]
  },
  {
   "cell_type": "code",
   "execution_count": null,
   "metadata": {},
   "outputs": [],
   "source": [
    "# write an expression to take a slice of pa \n",
    "# starting with the fifth element from the \n",
    "# last and going through the last element"
   ]
  },
  {
   "cell_type": "markdown",
   "metadata": {},
   "source": [
    "NumPy arrays also support this slicing and indexing notation.  Try it out!"
   ]
  },
  {
   "cell_type": "code",
   "execution_count": null,
   "metadata": {},
   "outputs": [],
   "source": [
    "# write an expression to take a slice of na \n",
    "# starting with the fifth element from the \n",
    "# last and going through the last element"
   ]
  },
  {
   "cell_type": "markdown",
   "metadata": {},
   "source": [
    "### Types\n",
    "\n",
    "Python is an _untyped_ language, which means that you cannot, in general, statically ascribe a nontrivial type to a variable.  (Python 3.5 introduced [some support for type annotations](https://www.python.org/dev/peps/pep-0483/), which other tools can use to help check and test your software, but which are generally ignored by the language environment itself.)\n",
    "\n",
    "Furthermore, the _contents_ of Python arrays are possibly heterogeneous (meaning that you cannot, in general, even dynamically ascribe a nontrivial type to the contents of a Python array variable).  It's perfectly acceptable to put a bunch of arbitrary values in a Python array and it's up to the rest of the program to make sure these are handled properly.\n",
    "\n",
    "Try out the following cell to see how crazy things can get:"
   ]
  },
  {
   "cell_type": "code",
   "execution_count": null,
   "metadata": {},
   "outputs": [],
   "source": [
    "untyped_array = [n for n in range(10)]\n",
    "untyped_array[2:6] = [\"this\", \"sure\", \"is\", \"fun\"]\n",
    "untyped_array[0] = {\"any values\" : \"are welcome\"}\n",
    "untyped_array[-1] = Exception(\"uh oh\")\n",
    "untyped_array"
   ]
  },
  {
   "cell_type": "markdown",
   "metadata": {},
   "source": [
    "By contrast, NumPy arrays track their element types.   Try the following two cells to see how this works!"
   ]
  },
  {
   "cell_type": "code",
   "execution_count": null,
   "metadata": {},
   "outputs": [],
   "source": [
    "arr = np.arange(15)\n",
    "print(arr)\n",
    "arr.dtype"
   ]
  },
  {
   "cell_type": "code",
   "execution_count": null,
   "metadata": {},
   "outputs": [],
   "source": [
    "arr = np.logspace(0, 10, 11, base=2)\n",
    "print(arr)\n",
    "arr.dtype"
   ]
  },
  {
   "cell_type": "markdown",
   "metadata": {},
   "source": [
    "This type information is necessary because much of NumPy is implemented with high-performance native libraries and types are essential for both performance and correctness.  In order to avoid surprising us, NumPy will keep us from putting the wrong kind of value in an array."
   ]
  },
  {
   "cell_type": "code",
   "execution_count": null,
   "metadata": {},
   "outputs": [],
   "source": [
    "arr[3] = \"eight\""
   ]
  },
  {
   "cell_type": "code",
   "execution_count": null,
   "metadata": {},
   "outputs": [],
   "source": [
    "arr"
   ]
  },
  {
   "cell_type": "markdown",
   "metadata": {},
   "source": [
    "Let's see what happens if we try and change the type of the array (by changing the type of its elements)."
   ]
  },
  {
   "cell_type": "code",
   "execution_count": null,
   "metadata": {},
   "outputs": [],
   "source": [
    "arr.dtype = 'int32'\n",
    "arr"
   ]
  },
  {
   "cell_type": "markdown",
   "metadata": {},
   "source": [
    "Is that the result you expected?  What happened there, anyway?  (If you need a hint, run the next cell.)"
   ]
  },
  {
   "cell_type": "code",
   "execution_count": null,
   "metadata": {},
   "outputs": [],
   "source": [
    "arr.dtype = 'float64'\n",
    "arr"
   ]
  },
  {
   "cell_type": "markdown",
   "metadata": {},
   "source": [
    "## A first gotcha\n",
    "\n",
    "So far we've seen a few performance differences between Python lists and NumPy arrays, but these data structures generally support similar interfaces.  We've only seen minor behavioral differences so far.  However, in the next cell, we'll show you an important difference between NumPy arrays and Python lists -- and we'll do that by defining a function that returns the same value whether you pass it a Python list or a NumPy array with the same elements."
   ]
  },
  {
   "cell_type": "code",
   "execution_count": null,
   "metadata": {},
   "outputs": [],
   "source": [
    "def florble(a):\n",
    "    if (len(a)) < 5:\n",
    "        return 0\n",
    "    \n",
    "    foo = a[1:-1]\n",
    "    foo[1] = foo[-1]\n",
    "    return foo"
   ]
  },
  {
   "cell_type": "markdown",
   "metadata": {},
   "source": [
    "Read through that function and think about what it does.  We'll try it out next."
   ]
  },
  {
   "cell_type": "code",
   "execution_count": null,
   "metadata": {},
   "outputs": [],
   "source": [
    "na = np.arange(6)\n",
    "pa = [n for n in range(6)]"
   ]
  },
  {
   "cell_type": "code",
   "execution_count": null,
   "metadata": {},
   "outputs": [],
   "source": [
    "florble(na)"
   ]
  },
  {
   "cell_type": "code",
   "execution_count": null,
   "metadata": {},
   "outputs": [],
   "source": [
    "florble(pa)"
   ]
  },
  {
   "cell_type": "markdown",
   "metadata": {},
   "source": [
    "This function returns the same value whether you've passed in a NumPy array or a Python list.  Are these two cases different?  (If so, how?)\n",
    "\n",
    "_Hint:  if you get stuck, try running the code in [this notebook](hints/hint01.ipynb) and then think about what's going on some more._\n",
    "\n",
    "We'll be thinking about this difference and similar ones in the rest of this part of the tutorial.  Why might Python lists and NumPy arrays behave differently this way?  What are the tradeoffs?\n",
    "\n",
    "##  One last thing:  interactively finding more help\n",
    "\n",
    "You've done a great job of finding some interesting NumPy functions by using `dir` and `help`.  But NumPy provides a function that makes it easier to find a relevant NumPy function based on keywords in its documentation string.  (If you've used the `apropos` shell command before,  you know that this can be extraordinarily useful.)   Since you don't yet know the name of the function to search documentation strings, we won't make you search documentation strings to find it --  just run the next cell to try it out."
   ]
  },
  {
   "cell_type": "code",
   "execution_count": null,
   "metadata": {},
   "outputs": [],
   "source": [
    "np.lookfor(\"keyword search\")"
   ]
  },
  {
   "cell_type": "markdown",
   "metadata": {},
   "source": [
    "Well, look at that!  It looks like `numpy.lookfor` will search documentation for keywords.  In the next cell, use `lookfor` to find a function that determines whether or not two arrays may share memory."
   ]
  },
  {
   "cell_type": "code",
   "execution_count": null,
   "metadata": {},
   "outputs": [],
   "source": [
    "np.lookfor(\"edit this cell and put your search string here\")"
   ]
  },
  {
   "cell_type": "markdown",
   "metadata": {},
   "source": [
    "Can you think of why this function might be useful?\n",
    "\n",
    "Let's go on to the next notebook now!"
   ]
  }
 ],
 "metadata": {
  "kernelspec": {
   "display_name": "Python 3",
   "language": "python",
   "name": "python3"
  },
  "language_info": {
   "codemirror_mode": {
    "name": "ipython",
    "version": 3
   },
   "file_extension": ".py",
   "mimetype": "text/x-python",
   "name": "python",
   "nbconvert_exporter": "python",
   "pygments_lexer": "ipython3",
   "version": "3.7.3"
  }
 },
 "nbformat": 4,
 "nbformat_minor": 2
}
