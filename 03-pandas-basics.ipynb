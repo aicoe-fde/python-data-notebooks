{
 "cells": [
  {
   "cell_type": "markdown",
   "metadata": {},
   "source": [
    "# Pandas basics\n",
    "\n",
    "[Pandas](https://pandas.pydata.org) is widely used for data analysis in Python and it makes the process of working with structured data easier. Pandas combines the efficiency of NumPy (which we saw in [notebook 1](01-numpy-basics.ipynb)) with tools to manipulate and re-structure data and perform aggregations and queries on that data.\n",
    "\n",
    "\n",
    "This notebook will give you a quick introduction to Pandas. Like the earlier notebooks in this series, some of the cells are in question-and-answer format, whilst some contain working code - make sure you think about what these cells are doing whilst working through the notebook.\n",
    "\n",
    "## Table of contents: \n",
    "\n",
    "1. Importing Pandas\n",
    "1. Creating Series\n",
    "1. Creating DataFrames\n",
    "    - from numpy arrays\n",
    "    - from dictionaries\n",
    "1. Working with indexes\n",
    "1. Summarising your data\n",
    "\n",
    "Let's go! \n",
    "\n",
    "## Importing Pandas\n",
    "\n",
    "It is common practise to import `pandas` with the alias of `pd`, thereby saving 4 keystrokes every time you want to type the module name."
   ]
  },
  {
   "cell_type": "code",
   "execution_count": 1,
   "metadata": {},
   "outputs": [],
   "source": [
    "import pandas as pd"
   ]
  },
  {
   "cell_type": "code",
   "execution_count": null,
   "metadata": {},
   "outputs": [],
   "source": []
  }
 ],
 "metadata": {
  "kernelspec": {
   "display_name": "Python 3",
   "language": "python",
   "name": "python3"
  },
  "language_info": {
   "codemirror_mode": {
    "name": "ipython",
    "version": 3
   },
   "file_extension": ".py",
   "mimetype": "text/x-python",
   "name": "python",
   "nbconvert_exporter": "python",
   "pygments_lexer": "ipython3",
   "version": "3.7.4"
  }
 },
 "nbformat": 4,
 "nbformat_minor": 4
}
