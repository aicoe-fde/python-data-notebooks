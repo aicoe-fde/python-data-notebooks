{
 "cells": [
  {
   "cell_type": "markdown",
   "metadata": {},
   "source": [
    "# Pandas basics\n",
    "\n",
    "[Pandas](https://pandas.pydata.org) is widely used for data analysis in Python and it makes the process of working with structured data easier. Pandas is built on top of NumPy (which we saw in [notebook 1](01-numpy-basics.ipynb)) and provides data structures which aid analytics as well as tools to manipulate and restructure data, and perform aggregations and queries on that data.\n",
    "\n",
    "\n",
    "This notebook will give you a quick introduction to Pandas. Like the earlier notebooks in this workshop, some of the cells are in question-and-answer format, whilst some contain working code - make sure you think about what these cells are doing whilst going through the notebook.\n",
    "\n",
    "Let's go! \n",
    "\n",
    "## Importing Pandas\n",
    "\n",
    "It is common practise to import `pandas` with the alias of `pd`, thereby saving yourself 4 keystrokes every time you want to type the module name."
   ]
  },
  {
   "cell_type": "code",
   "execution_count": 1,
   "metadata": {},
   "outputs": [],
   "source": [
    "import pandas as pd"
   ]
  },
  {
   "cell_type": "markdown",
   "metadata": {},
   "source": [
    "## Creating data structures\n",
    "\n",
    "There are two data structures in pandas: `Series` and `DataFrames`. \n",
    "\n",
    "### Series\n",
    "\n",
    "A pandas [Series](https://pandas.pydata.org/pandas-docs/stable/reference/api/pandas.Series.html#pandas.Series) holds one dimensional data, and labels corresponding to the data. \n",
    "\n",
    "There are a few ways we can make a `Series` but perhaps the simplest is from an array of data."
   ]
  },
  {
   "cell_type": "code",
   "execution_count": 2,
   "metadata": {},
   "outputs": [
    {
     "data": {
      "text/plain": [
       "0    alpha\n",
       "1    gamma\n",
       "2    delta\n",
       "3    omega\n",
       "dtype: object"
      ]
     },
     "execution_count": 2,
     "metadata": {},
     "output_type": "execute_result"
    }
   ],
   "source": [
    "dat = pd.Series(['alpha', 'gamma', 'delta', 'omega'])\n",
    "dat"
   ]
  },
  {
   "cell_type": "markdown",
   "metadata": {},
   "source": [
    "You can see that, as well as the data, the `Series` has indices, in this case the integers 0 to 3.\n",
    "\n",
    "We can use these to select specific entries from the `Series`:"
   ]
  },
  {
   "cell_type": "code",
   "execution_count": 3,
   "metadata": {},
   "outputs": [
    {
     "data": {
      "text/plain": [
       "'omega'"
      ]
     },
     "execution_count": 3,
     "metadata": {},
     "output_type": "execute_result"
    }
   ],
   "source": [
    "dat[3]"
   ]
  },
  {
   "cell_type": "markdown",
   "metadata": {},
   "source": [
    "How would you select the first 3 entries in `dat`?"
   ]
  },
  {
   "cell_type": "code",
   "execution_count": 4,
   "metadata": {},
   "outputs": [
    {
     "data": {
      "text/plain": [
       "0    alpha\n",
       "1    gamma\n",
       "2    delta\n",
       "dtype: object"
      ]
     },
     "execution_count": 4,
     "metadata": {},
     "output_type": "execute_result"
    }
   ],
   "source": [
    "# FIXME: only keep this in solution \n",
    "\n",
    "dat[0:3]"
   ]
  },
  {
   "cell_type": "markdown",
   "metadata": {},
   "source": [
    "If we decide we want to change the indexes of our `Series` we can do so as follows: "
   ]
  },
  {
   "cell_type": "code",
   "execution_count": 5,
   "metadata": {},
   "outputs": [
    {
     "data": {
      "text/plain": [
       "a    alpha\n",
       "g    gamma\n",
       "d    delta\n",
       "o    omega\n",
       "dtype: object"
      ]
     },
     "execution_count": 5,
     "metadata": {},
     "output_type": "execute_result"
    }
   ],
   "source": [
    "dat.index = ['a', 'g', 'd', 'o']\n",
    "dat"
   ]
  },
  {
   "cell_type": "markdown",
   "metadata": {},
   "source": [
    "## Initialising a series with the desired indexes and names\n",
    "\n",
    "Instead of changing indexes and names once the `Series` has been initialised, you can do it all in one fell swoop. Using `help(pd.Series)` for guidance, make a new `Series` with the data below and the correct indices and names in one command:"
   ]
  },
  {
   "cell_type": "code",
   "execution_count": 6,
   "metadata": {},
   "outputs": [
    {
     "data": {
      "text/plain": [
       "e    epsilon\n",
       "l     lambda\n",
       "m         mu\n",
       "Name: greek letters, dtype: object"
      ]
     },
     "execution_count": 6,
     "metadata": {},
     "output_type": "execute_result"
    }
   ],
   "source": [
    "## Ammend this code so the series\n",
    "## has the correct indices and names\n",
    "\n",
    "dat2 = pd.Series(['epsilon', 'lambda', 'mu'])\n",
    "\n",
    "## only need this for the solution\n",
    "dat2 = pd.Series(['epsilon', 'lambda', 'mu'], index = ['e','l','m'],\n",
    "                 name = 'greek letters')\n",
    "dat2"
   ]
  },
  {
   "cell_type": "markdown",
   "metadata": {},
   "source": [
    "We can also give the index a name to aid understanding: "
   ]
  },
  {
   "cell_type": "code",
   "execution_count": 7,
   "metadata": {},
   "outputs": [
    {
     "data": {
      "text/plain": [
       "latin\n",
       "a    alpha\n",
       "g    gamma\n",
       "d    delta\n",
       "o    omega\n",
       "dtype: object"
      ]
     },
     "execution_count": 7,
     "metadata": {},
     "output_type": "execute_result"
    }
   ],
   "source": [
    "dat.index.name = 'latin'\n",
    "dat"
   ]
  },
  {
   "cell_type": "markdown",
   "metadata": {},
   "source": [
    "## Making a Series from a dictionary\n",
    "\n",
    "Another way to make a `Series` is from a Python dict object:"
   ]
  },
  {
   "cell_type": "code",
   "execution_count": 8,
   "metadata": {},
   "outputs": [
    {
     "data": {
      "text/plain": [
       "Cats          798\n",
       "Star Wars    1938\n",
       "Jumanji      1802\n",
       "dtype: int64"
      ]
     },
     "execution_count": 8,
     "metadata": {},
     "output_type": "execute_result"
    }
   ],
   "source": [
    "views = {'Cats': 798, 'Star Wars': 1938, 'Jumanji': 1802}\n",
    "dat3 = pd.Series(views)\n",
    "dat3"
   ]
  },
  {
   "cell_type": "markdown",
   "metadata": {},
   "source": [
    "### NumPy operations on Series\n",
    "\n",
    "You can implement standard NumPy operations on Pandas objects like so:"
   ]
  },
  {
   "cell_type": "code",
   "execution_count": 9,
   "metadata": {},
   "outputs": [
    {
     "data": {
      "text/plain": [
       "Cats         1596\n",
       "Star Wars    3876\n",
       "Jumanji      3604\n",
       "dtype: int64"
      ]
     },
     "execution_count": 9,
     "metadata": {},
     "output_type": "execute_result"
    }
   ],
   "source": [
    "dat3*2 "
   ]
  },
  {
   "cell_type": "markdown",
   "metadata": {},
   "source": [
    "When applying arithmetic to `Series`, they automatically apply the functions to data by aligning indexes. "
   ]
  },
  {
   "cell_type": "markdown",
   "metadata": {},
   "source": [
    "dat4 = pd.Series({'Little Women':908, 'Star Wars': 1145, 'Cats':102})\n",
    "\n",
    "dat3 + dat4"
   ]
  },
  {
   "cell_type": "markdown",
   "metadata": {},
   "source": [
    "Note that if an index does not appear in all of the `Series` in the arithmetic, the resulting entry for that index will be `NaN`."
   ]
  },
  {
   "cell_type": "markdown",
   "metadata": {},
   "source": [
    "## DataFrames\n",
    "\n",
    "As well as the one dimensional, indexed `Series` object, `pandas` contains a `DataFrame` object, which is more similar to a two dimensional spreadsheet, with both rows and columns. \n",
    "\n",
    "One easy way to make a data frame is from a Python Dictionary of Numpy Arrays arrays: "
   ]
  },
  {
   "cell_type": "code",
   "execution_count": 10,
   "metadata": {},
   "outputs": [],
   "source": [
    "import numpy as np\n",
    "\n",
    "np.datetime64('2015-07-04')\n",
    "\n",
    "data = {'film':['Little Women', 'Cats', 'Jumanji', 'Star Wars'], \n",
    "       'mean views':[908, 102, 3604, 1145],\n",
    "       'date': [np.datetime64('2019-12-25'), np.datetime64('2019-12-20'), np.datetime64('2019-12-04'), np.datetime64('2019-12-18')], \n",
    "       'run time':[135, 110, 123, 142]}"
   ]
  },
  {
   "cell_type": "code",
   "execution_count": 11,
   "metadata": {},
   "outputs": [
    {
     "data": {
      "text/html": [
       "<div>\n",
       "<style scoped>\n",
       "    .dataframe tbody tr th:only-of-type {\n",
       "        vertical-align: middle;\n",
       "    }\n",
       "\n",
       "    .dataframe tbody tr th {\n",
       "        vertical-align: top;\n",
       "    }\n",
       "\n",
       "    .dataframe thead th {\n",
       "        text-align: right;\n",
       "    }\n",
       "</style>\n",
       "<table border=\"1\" class=\"dataframe\">\n",
       "  <thead>\n",
       "    <tr style=\"text-align: right;\">\n",
       "      <th></th>\n",
       "      <th>film</th>\n",
       "      <th>mean views</th>\n",
       "      <th>date</th>\n",
       "      <th>run time</th>\n",
       "    </tr>\n",
       "  </thead>\n",
       "  <tbody>\n",
       "    <tr>\n",
       "      <th>0</th>\n",
       "      <td>Little Women</td>\n",
       "      <td>908</td>\n",
       "      <td>2019-12-25</td>\n",
       "      <td>135</td>\n",
       "    </tr>\n",
       "    <tr>\n",
       "      <th>1</th>\n",
       "      <td>Cats</td>\n",
       "      <td>102</td>\n",
       "      <td>2019-12-20</td>\n",
       "      <td>110</td>\n",
       "    </tr>\n",
       "    <tr>\n",
       "      <th>2</th>\n",
       "      <td>Jumanji</td>\n",
       "      <td>3604</td>\n",
       "      <td>2019-12-04</td>\n",
       "      <td>123</td>\n",
       "    </tr>\n",
       "    <tr>\n",
       "      <th>3</th>\n",
       "      <td>Star Wars</td>\n",
       "      <td>1145</td>\n",
       "      <td>2019-12-18</td>\n",
       "      <td>142</td>\n",
       "    </tr>\n",
       "  </tbody>\n",
       "</table>\n",
       "</div>"
      ],
      "text/plain": [
       "           film  mean views       date  run time\n",
       "0  Little Women         908 2019-12-25       135\n",
       "1          Cats         102 2019-12-20       110\n",
       "2       Jumanji        3604 2019-12-04       123\n",
       "3     Star Wars        1145 2019-12-18       142"
      ]
     },
     "execution_count": 11,
     "metadata": {},
     "output_type": "execute_result"
    }
   ],
   "source": [
    "movie_df = pd.DataFrame(data) \n",
    "movie_df"
   ]
  },
  {
   "cell_type": "markdown",
   "metadata": {},
   "source": [
    "We used the numpy date and time functionality to format dates in our DataFrame. Remember that you can find out more about a function or object type using the ```help($function)``` command. \n",
    "\n",
    "As we saw with `Series`, rows of the `DataFrame` are indexed with integers. Using the `dir()` and `help()` functions, see if you can change the indexes of the DataFrame to the letters a to d."
   ]
  },
  {
   "cell_type": "code",
   "execution_count": 12,
   "metadata": {},
   "outputs": [
    {
     "data": {
      "text/html": [
       "<div>\n",
       "<style scoped>\n",
       "    .dataframe tbody tr th:only-of-type {\n",
       "        vertical-align: middle;\n",
       "    }\n",
       "\n",
       "    .dataframe tbody tr th {\n",
       "        vertical-align: top;\n",
       "    }\n",
       "\n",
       "    .dataframe thead th {\n",
       "        text-align: right;\n",
       "    }\n",
       "</style>\n",
       "<table border=\"1\" class=\"dataframe\">\n",
       "  <thead>\n",
       "    <tr style=\"text-align: right;\">\n",
       "      <th></th>\n",
       "      <th>film</th>\n",
       "      <th>mean views</th>\n",
       "      <th>date</th>\n",
       "      <th>run time</th>\n",
       "    </tr>\n",
       "  </thead>\n",
       "  <tbody>\n",
       "    <tr>\n",
       "      <th>a</th>\n",
       "      <td>Little Women</td>\n",
       "      <td>908</td>\n",
       "      <td>2019-12-25</td>\n",
       "      <td>135</td>\n",
       "    </tr>\n",
       "    <tr>\n",
       "      <th>b</th>\n",
       "      <td>Cats</td>\n",
       "      <td>102</td>\n",
       "      <td>2019-12-20</td>\n",
       "      <td>110</td>\n",
       "    </tr>\n",
       "    <tr>\n",
       "      <th>c</th>\n",
       "      <td>Jumanji</td>\n",
       "      <td>3604</td>\n",
       "      <td>2019-12-04</td>\n",
       "      <td>123</td>\n",
       "    </tr>\n",
       "    <tr>\n",
       "      <th>d</th>\n",
       "      <td>Star Wars</td>\n",
       "      <td>1145</td>\n",
       "      <td>2019-12-18</td>\n",
       "      <td>142</td>\n",
       "    </tr>\n",
       "  </tbody>\n",
       "</table>\n",
       "</div>"
      ],
      "text/plain": [
       "           film  mean views       date  run time\n",
       "a  Little Women         908 2019-12-25       135\n",
       "b          Cats         102 2019-12-20       110\n",
       "c       Jumanji        3604 2019-12-04       123\n",
       "d     Star Wars        1145 2019-12-18       142"
      ]
     },
     "execution_count": 12,
     "metadata": {},
     "output_type": "execute_result"
    }
   ],
   "source": [
    "#### Solution: \n",
    "\n",
    "movie_df.index=['a', 'b', 'c', 'd']\n",
    "movie_df"
   ]
  },
  {
   "cell_type": "markdown",
   "metadata": {},
   "source": [
    "We can retrieve rows and columns of the DataFrame using their index names, like so:"
   ]
  },
  {
   "cell_type": "code",
   "execution_count": 13,
   "metadata": {},
   "outputs": [
    {
     "data": {
      "text/plain": [
       "a     908\n",
       "b     102\n",
       "c    3604\n",
       "d    1145\n",
       "Name: mean views, dtype: int64"
      ]
     },
     "execution_count": 13,
     "metadata": {},
     "output_type": "execute_result"
    }
   ],
   "source": [
    "movie_df['mean views']"
   ]
  },
  {
   "cell_type": "code",
   "execution_count": 14,
   "metadata": {},
   "outputs": [
    {
     "data": {
      "text/plain": [
       "film                         Cats\n",
       "mean views                    102\n",
       "date          2019-12-20 00:00:00\n",
       "run time                      110\n",
       "Name: b, dtype: object"
      ]
     },
     "execution_count": 14,
     "metadata": {},
     "output_type": "execute_result"
    }
   ],
   "source": [
    "movie_df.loc['b']"
   ]
  },
  {
   "cell_type": "markdown",
   "metadata": {},
   "source": [
    "We can also add columns and ammend the DataFrame: "
   ]
  },
  {
   "cell_type": "code",
   "execution_count": 15,
   "metadata": {},
   "outputs": [
    {
     "data": {
      "text/html": [
       "<div>\n",
       "<style scoped>\n",
       "    .dataframe tbody tr th:only-of-type {\n",
       "        vertical-align: middle;\n",
       "    }\n",
       "\n",
       "    .dataframe tbody tr th {\n",
       "        vertical-align: top;\n",
       "    }\n",
       "\n",
       "    .dataframe thead th {\n",
       "        text-align: right;\n",
       "    }\n",
       "</style>\n",
       "<table border=\"1\" class=\"dataframe\">\n",
       "  <thead>\n",
       "    <tr style=\"text-align: right;\">\n",
       "      <th></th>\n",
       "      <th>film</th>\n",
       "      <th>mean views</th>\n",
       "      <th>date</th>\n",
       "      <th>run time</th>\n",
       "      <th>theaters</th>\n",
       "    </tr>\n",
       "  </thead>\n",
       "  <tbody>\n",
       "    <tr>\n",
       "      <th>a</th>\n",
       "      <td>Little Women</td>\n",
       "      <td>908</td>\n",
       "      <td>2019-12-25</td>\n",
       "      <td>135</td>\n",
       "      <td>1093</td>\n",
       "    </tr>\n",
       "    <tr>\n",
       "      <th>b</th>\n",
       "      <td>Cats</td>\n",
       "      <td>102</td>\n",
       "      <td>2019-12-20</td>\n",
       "      <td>110</td>\n",
       "      <td>987</td>\n",
       "    </tr>\n",
       "    <tr>\n",
       "      <th>c</th>\n",
       "      <td>Jumanji</td>\n",
       "      <td>3604</td>\n",
       "      <td>2019-12-04</td>\n",
       "      <td>123</td>\n",
       "      <td>4038</td>\n",
       "    </tr>\n",
       "    <tr>\n",
       "      <th>d</th>\n",
       "      <td>Star Wars</td>\n",
       "      <td>1145</td>\n",
       "      <td>2019-12-18</td>\n",
       "      <td>142</td>\n",
       "      <td>4874</td>\n",
       "    </tr>\n",
       "  </tbody>\n",
       "</table>\n",
       "</div>"
      ],
      "text/plain": [
       "           film  mean views       date  run time  theaters\n",
       "a  Little Women         908 2019-12-25       135      1093\n",
       "b          Cats         102 2019-12-20       110       987\n",
       "c       Jumanji        3604 2019-12-04       123      4038\n",
       "d     Star Wars        1145 2019-12-18       142      4874"
      ]
     },
     "execution_count": 15,
     "metadata": {},
     "output_type": "execute_result"
    }
   ],
   "source": [
    "movie_df['theaters']=np.array([1093,987,4038,4874])\n",
    "movie_df"
   ]
  },
  {
   "cell_type": "markdown",
   "metadata": {},
   "source": [
    "We can also add additional rows to a `DataFrame` using the `.append` function. Columns will align based on names."
   ]
  },
  {
   "cell_type": "code",
   "execution_count": 16,
   "metadata": {},
   "outputs": [],
   "source": [
    "yday = pd.Series(['yesterday', '795', np.datetime64('2019-06-28'), '116', 'Lily James'])\n",
    "yday.index = ['film', 'mean views', 'date', 'run time', 'star']"
   ]
  },
  {
   "cell_type": "code",
   "execution_count": 17,
   "metadata": {},
   "outputs": [
    {
     "data": {
      "text/html": [
       "<div>\n",
       "<style scoped>\n",
       "    .dataframe tbody tr th:only-of-type {\n",
       "        vertical-align: middle;\n",
       "    }\n",
       "\n",
       "    .dataframe tbody tr th {\n",
       "        vertical-align: top;\n",
       "    }\n",
       "\n",
       "    .dataframe thead th {\n",
       "        text-align: right;\n",
       "    }\n",
       "</style>\n",
       "<table border=\"1\" class=\"dataframe\">\n",
       "  <thead>\n",
       "    <tr style=\"text-align: right;\">\n",
       "      <th></th>\n",
       "      <th>film</th>\n",
       "      <th>mean views</th>\n",
       "      <th>date</th>\n",
       "      <th>run time</th>\n",
       "      <th>theaters</th>\n",
       "      <th>star</th>\n",
       "    </tr>\n",
       "  </thead>\n",
       "  <tbody>\n",
       "    <tr>\n",
       "      <th>0</th>\n",
       "      <td>Little Women</td>\n",
       "      <td>908</td>\n",
       "      <td>2019-12-25</td>\n",
       "      <td>135</td>\n",
       "      <td>1093.0</td>\n",
       "      <td>NaN</td>\n",
       "    </tr>\n",
       "    <tr>\n",
       "      <th>1</th>\n",
       "      <td>Cats</td>\n",
       "      <td>102</td>\n",
       "      <td>2019-12-20</td>\n",
       "      <td>110</td>\n",
       "      <td>987.0</td>\n",
       "      <td>NaN</td>\n",
       "    </tr>\n",
       "    <tr>\n",
       "      <th>2</th>\n",
       "      <td>Jumanji</td>\n",
       "      <td>3604</td>\n",
       "      <td>2019-12-04</td>\n",
       "      <td>123</td>\n",
       "      <td>4038.0</td>\n",
       "      <td>NaN</td>\n",
       "    </tr>\n",
       "    <tr>\n",
       "      <th>3</th>\n",
       "      <td>Star Wars</td>\n",
       "      <td>1145</td>\n",
       "      <td>2019-12-18</td>\n",
       "      <td>142</td>\n",
       "      <td>4874.0</td>\n",
       "      <td>NaN</td>\n",
       "    </tr>\n",
       "    <tr>\n",
       "      <th>4</th>\n",
       "      <td>yesterday</td>\n",
       "      <td>795</td>\n",
       "      <td>2019-06-28</td>\n",
       "      <td>116</td>\n",
       "      <td>NaN</td>\n",
       "      <td>Lily James</td>\n",
       "    </tr>\n",
       "  </tbody>\n",
       "</table>\n",
       "</div>"
      ],
      "text/plain": [
       "           film mean views       date run time  theaters        star\n",
       "0  Little Women        908 2019-12-25      135    1093.0         NaN\n",
       "1          Cats        102 2019-12-20      110     987.0         NaN\n",
       "2       Jumanji       3604 2019-12-04      123    4038.0         NaN\n",
       "3     Star Wars       1145 2019-12-18      142    4874.0         NaN\n",
       "4     yesterday        795 2019-06-28      116       NaN  Lily James"
      ]
     },
     "execution_count": 17,
     "metadata": {},
     "output_type": "execute_result"
    }
   ],
   "source": [
    "movie_df.append(yday, ignore_index=True)"
   ]
  },
  {
   "cell_type": "markdown",
   "metadata": {},
   "source": [
    "What do you notice has changed about the DataFrame?"
   ]
  },
  {
   "cell_type": "markdown",
   "metadata": {},
   "source": [
    "We can also delete column from the data frame using the `.drop` function:"
   ]
  },
  {
   "cell_type": "code",
   "execution_count": 18,
   "metadata": {},
   "outputs": [
    {
     "data": {
      "text/html": [
       "<div>\n",
       "<style scoped>\n",
       "    .dataframe tbody tr th:only-of-type {\n",
       "        vertical-align: middle;\n",
       "    }\n",
       "\n",
       "    .dataframe tbody tr th {\n",
       "        vertical-align: top;\n",
       "    }\n",
       "\n",
       "    .dataframe thead th {\n",
       "        text-align: right;\n",
       "    }\n",
       "</style>\n",
       "<table border=\"1\" class=\"dataframe\">\n",
       "  <thead>\n",
       "    <tr style=\"text-align: right;\">\n",
       "      <th></th>\n",
       "      <th>film</th>\n",
       "      <th>mean views</th>\n",
       "      <th>run time</th>\n",
       "      <th>theaters</th>\n",
       "    </tr>\n",
       "  </thead>\n",
       "  <tbody>\n",
       "    <tr>\n",
       "      <th>a</th>\n",
       "      <td>Little Women</td>\n",
       "      <td>908</td>\n",
       "      <td>135</td>\n",
       "      <td>1093</td>\n",
       "    </tr>\n",
       "    <tr>\n",
       "      <th>b</th>\n",
       "      <td>Cats</td>\n",
       "      <td>102</td>\n",
       "      <td>110</td>\n",
       "      <td>987</td>\n",
       "    </tr>\n",
       "    <tr>\n",
       "      <th>c</th>\n",
       "      <td>Jumanji</td>\n",
       "      <td>3604</td>\n",
       "      <td>123</td>\n",
       "      <td>4038</td>\n",
       "    </tr>\n",
       "    <tr>\n",
       "      <th>d</th>\n",
       "      <td>Star Wars</td>\n",
       "      <td>1145</td>\n",
       "      <td>142</td>\n",
       "      <td>4874</td>\n",
       "    </tr>\n",
       "  </tbody>\n",
       "</table>\n",
       "</div>"
      ],
      "text/plain": [
       "           film  mean views  run time  theaters\n",
       "a  Little Women         908       135      1093\n",
       "b          Cats         102       110       987\n",
       "c       Jumanji        3604       123      4038\n",
       "d     Star Wars        1145       142      4874"
      ]
     },
     "execution_count": 18,
     "metadata": {},
     "output_type": "execute_result"
    }
   ],
   "source": [
    "movie_df.drop(columns=['date'])"
   ]
  },
  {
   "cell_type": "markdown",
   "metadata": {},
   "source": [
    "Can you use the `help` function to find out how to delete row b from the DataFrame, using the `.drop` function?"
   ]
  },
  {
   "cell_type": "code",
   "execution_count": 19,
   "metadata": {},
   "outputs": [],
   "source": [
    "## Solution \n",
    "\n",
    "#help(pd.DataFrame.drop)\n",
    "#movie_df.drop('b')"
   ]
  },
  {
   "cell_type": "markdown",
   "metadata": {},
   "source": [
    "As well as adding and deleting data from the DataFrame it is important to be able to transform and apply functions to the data in the Data Frame. We can sort the frame by one (or more) of its columns using the `.sort_values` function:"
   ]
  },
  {
   "cell_type": "code",
   "execution_count": 22,
   "metadata": {},
   "outputs": [
    {
     "data": {
      "text/html": [
       "<div>\n",
       "<style scoped>\n",
       "    .dataframe tbody tr th:only-of-type {\n",
       "        vertical-align: middle;\n",
       "    }\n",
       "\n",
       "    .dataframe tbody tr th {\n",
       "        vertical-align: top;\n",
       "    }\n",
       "\n",
       "    .dataframe thead th {\n",
       "        text-align: right;\n",
       "    }\n",
       "</style>\n",
       "<table border=\"1\" class=\"dataframe\">\n",
       "  <thead>\n",
       "    <tr style=\"text-align: right;\">\n",
       "      <th></th>\n",
       "      <th>film</th>\n",
       "      <th>mean views</th>\n",
       "      <th>date</th>\n",
       "      <th>run time</th>\n",
       "      <th>theaters</th>\n",
       "    </tr>\n",
       "  </thead>\n",
       "  <tbody>\n",
       "    <tr>\n",
       "      <th>b</th>\n",
       "      <td>Cats</td>\n",
       "      <td>102</td>\n",
       "      <td>2019-12-20</td>\n",
       "      <td>110</td>\n",
       "      <td>987</td>\n",
       "    </tr>\n",
       "    <tr>\n",
       "      <th>a</th>\n",
       "      <td>Little Women</td>\n",
       "      <td>908</td>\n",
       "      <td>2019-12-25</td>\n",
       "      <td>135</td>\n",
       "      <td>1093</td>\n",
       "    </tr>\n",
       "    <tr>\n",
       "      <th>d</th>\n",
       "      <td>Star Wars</td>\n",
       "      <td>1145</td>\n",
       "      <td>2019-12-18</td>\n",
       "      <td>142</td>\n",
       "      <td>4874</td>\n",
       "    </tr>\n",
       "    <tr>\n",
       "      <th>c</th>\n",
       "      <td>Jumanji</td>\n",
       "      <td>3604</td>\n",
       "      <td>2019-12-04</td>\n",
       "      <td>123</td>\n",
       "      <td>4038</td>\n",
       "    </tr>\n",
       "  </tbody>\n",
       "</table>\n",
       "</div>"
      ],
      "text/plain": [
       "           film  mean views       date  run time  theaters\n",
       "b          Cats         102 2019-12-20       110       987\n",
       "a  Little Women         908 2019-12-25       135      1093\n",
       "d     Star Wars        1145 2019-12-18       142      4874\n",
       "c       Jumanji        3604 2019-12-04       123      4038"
      ]
     },
     "execution_count": 22,
     "metadata": {},
     "output_type": "execute_result"
    }
   ],
   "source": [
    "movie_df.sort_values(by = 'mean views')"
   ]
  },
  {
   "cell_type": "markdown",
   "metadata": {},
   "source": [
    "To illustrate other functions we can apply to the `DataFrame` let's first make a `DataFrame` that just contains the columns `mean views`, `run time` and `theaters`:"
   ]
  },
  {
   "cell_type": "code",
   "execution_count": 28,
   "metadata": {},
   "outputs": [
    {
     "data": {
      "text/html": [
       "<div>\n",
       "<style scoped>\n",
       "    .dataframe tbody tr th:only-of-type {\n",
       "        vertical-align: middle;\n",
       "    }\n",
       "\n",
       "    .dataframe tbody tr th {\n",
       "        vertical-align: top;\n",
       "    }\n",
       "\n",
       "    .dataframe thead th {\n",
       "        text-align: right;\n",
       "    }\n",
       "</style>\n",
       "<table border=\"1\" class=\"dataframe\">\n",
       "  <thead>\n",
       "    <tr style=\"text-align: right;\">\n",
       "      <th></th>\n",
       "      <th>mean views</th>\n",
       "      <th>run time</th>\n",
       "      <th>theaters</th>\n",
       "    </tr>\n",
       "  </thead>\n",
       "  <tbody>\n",
       "    <tr>\n",
       "      <th>a</th>\n",
       "      <td>908</td>\n",
       "      <td>135</td>\n",
       "      <td>1093</td>\n",
       "    </tr>\n",
       "    <tr>\n",
       "      <th>b</th>\n",
       "      <td>102</td>\n",
       "      <td>110</td>\n",
       "      <td>987</td>\n",
       "    </tr>\n",
       "    <tr>\n",
       "      <th>c</th>\n",
       "      <td>3604</td>\n",
       "      <td>123</td>\n",
       "      <td>4038</td>\n",
       "    </tr>\n",
       "    <tr>\n",
       "      <th>d</th>\n",
       "      <td>1145</td>\n",
       "      <td>142</td>\n",
       "      <td>4874</td>\n",
       "    </tr>\n",
       "  </tbody>\n",
       "</table>\n",
       "</div>"
      ],
      "text/plain": [
       "   mean views  run time  theaters\n",
       "a         908       135      1093\n",
       "b         102       110       987\n",
       "c        3604       123      4038\n",
       "d        1145       142      4874"
      ]
     },
     "execution_count": 28,
     "metadata": {},
     "output_type": "execute_result"
    }
   ],
   "source": [
    "movie_df2 = movie_df[['mean views', 'run time', 'theaters']]\n",
    "movie_df2"
   ]
  },
  {
   "cell_type": "markdown",
   "metadata": {},
   "source": [
    "We can compute the mean value down columns using the `.mean` function:"
   ]
  },
  {
   "cell_type": "code",
   "execution_count": 29,
   "metadata": {},
   "outputs": [
    {
     "data": {
      "text/plain": [
       "mean views    1439.75\n",
       "run time       127.50\n",
       "theaters      2748.00\n",
       "dtype: float64"
      ]
     },
     "execution_count": 29,
     "metadata": {},
     "output_type": "execute_result"
    }
   ],
   "source": [
    "movie_df2.mean()"
   ]
  },
  {
   "cell_type": "markdown",
   "metadata": {},
   "source": [
    "Using the 'axis' parameter we are able to apply the same function across the rows: "
   ]
  },
  {
   "cell_type": "code",
   "execution_count": 30,
   "metadata": {},
   "outputs": [
    {
     "data": {
      "text/plain": [
       "a     712.000000\n",
       "b     399.666667\n",
       "c    2588.333333\n",
       "d    2053.666667\n",
       "dtype: float64"
      ]
     },
     "execution_count": 30,
     "metadata": {},
     "output_type": "execute_result"
    }
   ],
   "source": [
    "movie_df2.mean(axis=1)"
   ]
  },
  {
   "cell_type": "markdown",
   "metadata": {},
   "source": [
    "Take a look at the help function to see what other column summaries compute. "
   ]
  },
  {
   "cell_type": "markdown",
   "metadata": {},
   "source": [
    "We can also apply functions we define to a `DataFrame`: "
   ]
  },
  {
   "cell_type": "code",
   "execution_count": 56,
   "metadata": {},
   "outputs": [
    {
     "data": {
      "text/html": [
       "<div>\n",
       "<style scoped>\n",
       "    .dataframe tbody tr th:only-of-type {\n",
       "        vertical-align: middle;\n",
       "    }\n",
       "\n",
       "    .dataframe tbody tr th {\n",
       "        vertical-align: top;\n",
       "    }\n",
       "\n",
       "    .dataframe thead th {\n",
       "        text-align: right;\n",
       "    }\n",
       "</style>\n",
       "<table border=\"1\" class=\"dataframe\">\n",
       "  <thead>\n",
       "    <tr style=\"text-align: right;\">\n",
       "      <th></th>\n",
       "      <th>mean views</th>\n",
       "      <th>run time</th>\n",
       "      <th>theaters</th>\n",
       "    </tr>\n",
       "  </thead>\n",
       "  <tbody>\n",
       "    <tr>\n",
       "      <th>a</th>\n",
       "      <td>910</td>\n",
       "      <td>133</td>\n",
       "      <td>1095</td>\n",
       "    </tr>\n",
       "    <tr>\n",
       "      <th>b</th>\n",
       "      <td>100</td>\n",
       "      <td>108</td>\n",
       "      <td>985</td>\n",
       "    </tr>\n",
       "    <tr>\n",
       "      <th>c</th>\n",
       "      <td>3606</td>\n",
       "      <td>121</td>\n",
       "      <td>4036</td>\n",
       "    </tr>\n",
       "    <tr>\n",
       "      <th>d</th>\n",
       "      <td>1147</td>\n",
       "      <td>140</td>\n",
       "      <td>4872</td>\n",
       "    </tr>\n",
       "  </tbody>\n",
       "</table>\n",
       "</div>"
      ],
      "text/plain": [
       "   mean views  run time  theaters\n",
       "a         910       133      1095\n",
       "b         100       108       985\n",
       "c        3606       121      4036\n",
       "d        1147       140      4872"
      ]
     },
     "execution_count": 56,
     "metadata": {},
     "output_type": "execute_result"
    }
   ],
   "source": [
    "movie_df2.apply(lambda x: x^2)"
   ]
  }
 ],
 "metadata": {
  "kernelspec": {
   "display_name": "Python 3",
   "language": "python",
   "name": "python3"
  },
  "language_info": {
   "codemirror_mode": {
    "name": "ipython",
    "version": 3
   },
   "file_extension": ".py",
   "mimetype": "text/x-python",
   "name": "python",
   "nbconvert_exporter": "python",
   "pygments_lexer": "ipython3",
   "version": "3.7.4"
  }
 },
 "nbformat": 4,
 "nbformat_minor": 4
}
