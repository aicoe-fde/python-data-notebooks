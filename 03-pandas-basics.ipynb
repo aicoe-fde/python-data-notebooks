{
 "cells": [
  {
   "cell_type": "markdown",
   "metadata": {},
   "source": [
    "# Pandas basics\n",
    "\n",
    "[Pandas](https://pandas.pydata.org) is widely used for data analysis in Python and it makes the process of working with structured data easier. Pandas is build ontop of NumPy (which we saw in [notebook 1](01-numpy-basics.ipynb)) with data structures which aid analytics as well as tools to manipulate and re-structure data and perform aggregations and queries on that data.\n",
    "\n",
    "\n",
    "This notebook will give you a quick introduction to Pandas. Like the earlier notebooks in this series, some of the cells are in question-and-answer format, whilst some contain working code - make sure you think about what these cells are doing whilst working through the notebook.\n",
    "\n",
    "Let's go! \n",
    "\n",
    "## Importing Pandas\n",
    "\n",
    "It is common practise to import `pandas` with the alias of `pd`, thereby saving yourself 4 keystrokes every time you want to type the module name."
   ]
  },
  {
   "cell_type": "code",
   "execution_count": null,
   "metadata": {},
   "outputs": [],
   "source": [
    "import pandas as pd"
   ]
  },
  {
   "cell_type": "markdown",
   "metadata": {},
   "source": [
    "## Creating data structures\n",
    "\n",
    "There are two data structure in pandas: series and databases. \n",
    "\n",
    "### Series\n",
    "\n",
    "A pandas [series](https://pandas.pydata.org/pandas-docs/stable/reference/api/pandas.Series.html#pandas.Series) holds one dimensional data, and lables corresponding to the data. \n",
    "\n",
    "There are afew ways we can make a `series` but perhaps the simplest is from an array of data."
   ]
  },
  {
   "cell_type": "code",
   "execution_count": null,
   "metadata": {},
   "outputs": [],
   "source": [
    "dat = pd.Series(['alpha', 'gamma', 'delta', 'omega'])\n",
    "dat"
   ]
  },
  {
   "cell_type": "markdown",
   "metadata": {},
   "source": [
    "You can see that, as well as the data, the `Series` has indices, in this case the integers 0 to 3.\n",
    "\n",
    "We can use these to select specific entries from the `Series`:"
   ]
  },
  {
   "cell_type": "code",
   "execution_count": null,
   "metadata": {},
   "outputs": [],
   "source": [
    "dat[3]"
   ]
  },
  {
   "cell_type": "markdown",
   "metadata": {},
   "source": [
    "How would you select the first 3 entries in `dat`?"
   ]
  },
  {
   "cell_type": "code",
   "execution_count": null,
   "metadata": {},
   "outputs": [],
   "source": [
    "# FIXME: only keep this in solution \n",
    "\n",
    "dat[0:3]"
   ]
  },
  {
   "cell_type": "markdown",
   "metadata": {},
   "source": [
    "If we decide we want to change the indexes of our Series we can do so as follows: "
   ]
  },
  {
   "cell_type": "code",
   "execution_count": null,
   "metadata": {},
   "outputs": [],
   "source": [
    "dat.index = ['a', 'g', 'd', 'o']\n",
    "dat"
   ]
  },
  {
   "cell_type": "markdown",
   "metadata": {},
   "source": [
    "## Initialising a series with the desired indexes and names\n",
    "\n",
    "Instead of changing indexes and names once the Series has been initialised, you can do it all in one fell swoop. Using `help(pd.Series)` for guidance, make a new Series with the data below and the correct indices and names in one command:"
   ]
  },
  {
   "cell_type": "code",
   "execution_count": null,
   "metadata": {},
   "outputs": [],
   "source": [
    "## Ammend this code so the series\n",
    "## has the correct indices and names\n",
    "\n",
    "dat2 = pd.Series(['epsilon', 'lambda', 'mu'])\n",
    "\n",
    "dat2 = pd.Series(['epsilon', 'lambda', 'mu'], index = ['e','l','m'],\n",
    "                 name = 'greek letters')\n",
    "dat2"
   ]
  },
  {
   "cell_type": "markdown",
   "metadata": {},
   "source": [
    "We can also give the index a name to aid understanding: "
   ]
  },
  {
   "cell_type": "code",
   "execution_count": null,
   "metadata": {},
   "outputs": [],
   "source": [
    "dat.index.name = 'latin'\n",
    "dat"
   ]
  },
  {
   "cell_type": "markdown",
   "metadata": {},
   "source": [
    "## Making a Series from a dictionary\n",
    "\n",
    "You can also turn a Python dictionary into a Series like so:"
   ]
  },
  {
   "cell_type": "code",
   "execution_count": null,
   "metadata": {},
   "outputs": [],
   "source": [
    "views = {'Cats': 798, 'Star Wars': 1938, 'Jumanji': 1802}\n",
    "dat3 = pd.Series(views)\n",
    "dat3"
   ]
  },
  {
   "cell_type": "markdown",
   "metadata": {},
   "source": [
    "### NumPy operations on Series"
   ]
  },
  {
   "cell_type": "code",
   "execution_count": null,
   "metadata": {},
   "outputs": [],
   "source": [
    "dat3 *2 "
   ]
  },
  {
   "cell_type": "code",
   "execution_count": null,
   "metadata": {},
   "outputs": [],
   "source": [
    "dat4 = pd.Series({'Little Women':908, 'Star Wars': 1145, 'Cats':102})"
   ]
  },
  {
   "cell_type": "markdown",
   "metadata": {},
   "source": [
    "When applying arethmetic to Series, they automatically apply the functions to data by aligning indexes. "
   ]
  },
  {
   "cell_type": "code",
   "execution_count": null,
   "metadata": {},
   "outputs": [],
   "source": [
    "dat3 + dat4"
   ]
  },
  {
   "cell_type": "markdown",
   "metadata": {},
   "source": [
    "Note that if an index does not appear in all of the Series in the arethmetic, the resultant entry for that index will be NaN."
   ]
  },
  {
   "cell_type": "code",
   "execution_count": null,
   "metadata": {},
   "outputs": [],
   "source": []
  }
 ],
 "metadata": {
  "kernelspec": {
   "display_name": "Python 3",
   "language": "python",
   "name": "python3"
  },
  "language_info": {
   "codemirror_mode": {
    "name": "ipython",
    "version": 3
   },
   "file_extension": ".py",
   "mimetype": "text/x-python",
   "name": "python",
   "nbconvert_exporter": "python",
   "pygments_lexer": "ipython3",
   "version": "3.7.4"
  }
 },
 "nbformat": 4,
 "nbformat_minor": 4
}
